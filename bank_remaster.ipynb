{
 "cells": [
  {
   "cell_type": "code",
   "execution_count": 214,
   "metadata": {},
   "outputs": [],
   "source": [
    "from bs4 import BeautifulSoup, Comment\n",
    "import requests\n",
    "import regex as re\n",
    "import xml\n",
    "from selenium import webdriver\n",
    "import pandas as pd\n",
    "import random\n",
    "import time"
   ]
  },
  {
   "cell_type": "code",
   "execution_count": 215,
   "metadata": {},
   "outputs": [],
   "source": [
    "website = [\"https://www.kasikornbank.com/en/rate/pages/foreign-exchange.aspx\",\n",
    "\"https://www.scb.co.th/th/personal-banking/foreign-exchange-rates.html\",\n",
    "\"https://www.bangkokbank.com/th-TH/Personal/Other-Services/View-Rates/Foreign-Exchange-Rates\",\n",
    "\"https://exchangerate.krungthai.com/#/counterRate\",\n",
    "\"https://www.krungsri.com/th/exchangerate/Todayrates\"]\n",
    "#ธนาคารซื้อ #ธนาคารขาย"
   ]
  },
  {
   "cell_type": "markdown",
   "metadata": {},
   "source": [
    "#Re function"
   ]
  },
  {
   "cell_type": "code",
   "execution_count": 217,
   "metadata": {},
   "outputs": [],
   "source": [
    "def remove_tag(html_str):\n",
    "    TAG_RE = re.compile(r'<[^>]+>')\n",
    "    text = TAG_RE.sub('!@', html_str)\n",
    "    mylist = re.split(r'!@', text)\n",
    "    clear_lst = []\n",
    "    for clear_text in mylist:\n",
    "        if (clear_text not in \"\\n\") and (clear_text not in \" \") and (clear_text not in \"\"):\n",
    "            clear_lst.append(clear_text)\n",
    "    return clear_lst\n",
    "#https://www.guru99.com/python-regular-expressions-complete-tutorial.html"
   ]
  },
  {
   "cell_type": "code",
   "execution_count": 7,
   "metadata": {},
   "outputs": [],
   "source": [
    "# def re_find(tag_start,tag_end,text):\n",
    "#     a = re.search(tag_start, text)\n",
    "#     if a == None:\n",
    "#         return ''\n",
    "#     text = text[a.start():]\n",
    "#     b = re.search(tag_end, text)\n",
    "#     text = text[:b.end()]\n",
    "#     #print(a.start(),b.start())\n",
    "#     return text"
   ]
  },
  {
   "cell_type": "code",
   "execution_count": 8,
   "metadata": {},
   "outputs": [],
   "source": [
    "# def re_find_all(tag_start,tag_end,text):\n",
    "#     list_all = []\n",
    "#     while(True):\n",
    "#         a = re.search(tag_start, text)\n",
    "#         #print(a.start(),b.end())\n",
    "#         if(a == None):\n",
    "#             #print(\"break\")\n",
    "#             return list_all\n",
    "#         text = text[a.start():]\n",
    "#         b = re.search(tag_end, text)\n",
    "#         list_all.append(text[:b.end()])\n",
    "#         text=text[b.end():]\n",
    "#     return list_all"
   ]
  },
  {
   "cell_type": "markdown",
   "metadata": {},
   "source": [
    "#start browser"
   ]
  },
  {
   "cell_type": "code",
   "execution_count": 218,
   "metadata": {},
   "outputs": [],
   "source": [
    "def start_browser():\n",
    "    options = webdriver.ChromeOptions()\n",
    "    options.add_argument('--headless')\n",
    "    options.add_argument('ignore-certificate-errors')\n",
    "    # executable_path param is not needed if you updated PATH\n",
    "    browser = webdriver.Chrome(options=options, executable_path='99.0.4844.51/chromedriver_win32/chromedriver.exe')\n",
    "    return browser\n",
    "\n",
    "def end_browser(browser):\n",
    "    browser.quit()\n"
   ]
  },
  {
   "cell_type": "markdown",
   "metadata": {},
   "source": [
    "#bank \n",
    "#special thanks #ppbasleng\n",
    "https://github.com/ppbasleng"
   ]
  },
  {
   "cell_type": "code",
   "execution_count": 6,
   "metadata": {},
   "outputs": [],
   "source": [
    "def kasikorn(url): \n",
    "    browser.get(url)\n",
    "    html = browser.page_source\n",
    "    soup = BeautifulSoup(html, features=\"html.parser\")\n",
    "\n",
    "    #clean soup data\n",
    "    # data = soup.find('div',{\"id\" : \"divTableRate\"}).find('tbody').find_all('tr')\n",
    "    data = re.findall(\"<tr>(.+?)</tr>\",re.findall(\"<tbody>(.+?)</tbody>\",str(soup))[0])\n",
    "    #re_find_all(r'<tr>',r'</tr>',re_find(r'<tbody>',r'</tbody>',str(soup)))\n",
    "    lst_rows = []\n",
    "    for index,value in enumerate(data):\n",
    "        lst = remove_tag(str(value))\n",
    "        lst2 = lst[2:]\n",
    "        lst_buy = [lst2[3],lst2[1],lst2[0],\"-\",lst2[2]]\n",
    "        lst_sell = [lst2[5],lst2[4],lst2[4],lst2[4]]\n",
    "        lst_rows.append([lst[0].replace(\" \",\"\"),lst_buy,lst_sell])\n",
    "    \n",
    "    return lst_rows\n",
    "    #return soup"
   ]
  },
  {
   "cell_type": "code",
   "execution_count": 94,
   "metadata": {},
   "outputs": [],
   "source": [
    "def scb(url): \n",
    "    browser.get(url)\n",
    "    html = browser.page_source\n",
    "    soup = BeautifulSoup(html, features=\"html.parser\")\n",
    "    \n",
    "    #clean soup data\n",
    "    #data = re_find_all(r'<tr data-list-template=\"\" style=\"\">',r'</tr>',re_find(r'<table class=\"table-rate\" data-table=\"\">',r'</table>',str(soup)))\n",
    "\n",
    "    remove = re.compile(r'\\n')\n",
    "    d = remove.sub('', str(soup))\n",
    "    data = re.findall('<tr data-list-template=\"\" style=\"\">(.+?)</tr>',re.findall('<table class=\"table-rate\" data-table=\"\">(.+?)</table>',str(d))[0])\n",
    "\n",
    "    lst_rows = []\n",
    "    for index,value in enumerate(data):\n",
    "        lst = remove_tag(str(value))\n",
    "        lst2 = lst[2:]\n",
    "        lst_buy = [lst2[5],lst2[3],lst2[4],\"-\",lst2[2]]\n",
    "        lst_sell = [lst2[1],lst2[0],lst2[0],\"-\"]\n",
    "        lst_rows.append([lst[0],lst_buy,lst_sell])\n",
    "    return lst_rows\n",
    "    #return soup\n",
    "    "
   ]
  },
  {
   "cell_type": "code",
   "execution_count": 151,
   "metadata": {},
   "outputs": [],
   "source": [
    "def bangkok(url):\n",
    "    browser.get(url)\n",
    "    html = browser.page_source\n",
    "    soup = BeautifulSoup(html, features=\"html.parser\")\n",
    "\n",
    "    #clean soup data\n",
    "    # data = soup.find('table',{\"class\" : \"table-primary table-foreign-exchange-rates blue\"}).find('tbody').find_all('tr')\n",
    "    #data = re_find_all(r'<tr>',r'</tr>',re_find(r'<tbody>',r'</tbody>',re_find(r'<table class=\"table-primary table-foreign-exchange-rates blue\">',r'</table>',str(soup))))\n",
    "    #data = re.findall\n",
    "    remove = re.compile(r'\\n')\n",
    "    d = remove.sub('', str(soup))\n",
    "    data = re.findall('<table class=\"table-primary table-foreign-exchange-rates blue\">(.+?)</table>',str(d))\n",
    "    data = re.findall('<tbody>(.+?)</tbody>',data[0])\n",
    "    data = re.findall('<tr>(.+?)</tr>',data[0])\n",
    "\n",
    "    lst_rows = []\n",
    "    for index,value in enumerate(data):\n",
    "        clear_lst = remove_tag(str(value))\n",
    "        clear_lst = [x.replace(\" \", \"\") for x in clear_lst]\n",
    "        while(len(clear_lst) < 7):\n",
    "            clear_lst.append('-')\n",
    "        lst2 = clear_lst[2:]\n",
    "        lst_buy = [lst2[0],'-','-',lst2[2],lst2[3]]\n",
    "        lst_sell = [lst2[1],\"-\",lst2[4],lst2[4]]\n",
    "        lst_rows.append([clear_lst[0],lst_buy,lst_sell])\n",
    "    return lst_rows\n",
    "    #return soup"
   ]
  },
  {
   "cell_type": "code",
   "execution_count": 189,
   "metadata": {},
   "outputs": [],
   "source": [
    "def krungthai(url):\n",
    "    browser.get(url)\n",
    "    time.sleep(10)##########\n",
    "    html = browser.page_source\n",
    "    soup = BeautifulSoup(html, features=\"html.parser\")\n",
    "\n",
    "    #clean soup data\n",
    "    #data = soup.find('table',{\"id\" : \"cur-table-1\"}).find('tbody').find_all('tr',{\"class\" : \"ng-scope\"})\n",
    "    #data = re_find_all(r'<!-- ngIf: rate.isShow -->',r'<!-- end ngIf: rate.isShow -->',re_find(r'<tbody>',r'</tbody>',re_find(r'<table cellspacing=\"0\" class=\"cur-table table table-bordered border-bottom-0\" id=\"cur-table-1\" style=\"table-layout: fixed; min-width: 688px;\" width=\"100%\">',r'</table>',str(soup))))\n",
    "    remove = re.compile(r'\\n')\n",
    "    d = remove.sub('', str(soup))\n",
    "    data = re.findall('<table cellspacing=\"0\" class=\"cur-table table table-bordered border-bottom-0\" id=\"cur-table-1\" style=\"table-layout: fixed; min-width: 688px;\" width=\"100%\">(.+?)</table>',str(d))\n",
    "    data = re.findall('<tbody>(.+?)</tbody>',str(data))\n",
    "    data = re.findall('<!-- ngIf: rate.isShow -->(.+?)<!-- end ngIf: rate.isShow -->',str(data))\n",
    "    \n",
    "    lst_rows = []\n",
    "    for index,value in enumerate(data):\n",
    "        if index != 8 :\n",
    "            clear_lst = remove_tag(str(value))\n",
    "            clear_lst = [x.replace(\" \", \"\") for x in clear_lst]\n",
    "            clear_lst = [x.replace(\"Unq\", \"-\") for x in clear_lst]\n",
    "            lst2 = clear_lst[2:]\n",
    "            lst_buy = [lst2[3],lst2[0],'-','-',lst2[1]]\n",
    "            lst_sell = [lst2[4],lst2[2],'-','-']\n",
    "            lst_rows.append([clear_lst[0],lst_buy,lst_sell])\n",
    "    return lst_rows\n",
    "    #return soup"
   ]
  },
  {
   "cell_type": "code",
   "execution_count": 211,
   "metadata": {},
   "outputs": [],
   "source": [
    "def krungsri(url):\n",
    "    browser.get(url)\n",
    "    html = browser.page_source\n",
    "    soup = BeautifulSoup(html, features=\"html.parser\")\n",
    "\n",
    "    #clen soup data\n",
    "    #data = soup.find('div',{\"class\" : \"table-scroll\"}).find('tbody').find_all('tr')\n",
    "    #data = re_find_all(r'important\">',r'</tr>',re_find(r'<tbody>',r'</tbody>',re_find(r'<div class=\"table-scroll\">',r'</div>',str(soup))))\n",
    "    remove = re.compile(r'\\n')\n",
    "    d = remove.sub('', str(soup))\n",
    "    data = re.findall('<div class=\"table-scroll\">(.+?)</div>',str(d))\n",
    "    data = re.findall('<tbody>(.+?)</tbody>',str(data))\n",
    "    data = re.findall('important\">(.+?)</tr>',str(data))\n",
    "    data = [\"<\"+d for d in data]\n",
    "    \n",
    "    lst_rows = []\n",
    "    for index,value in enumerate(data):\n",
    "        lst = remove_tag(str(value))\n",
    "        remove = re.compile(r'\\s|\\xa0|\\*')\n",
    "        lst = [remove.sub('', x) for x in lst]\n",
    "        lst = [x.replace(\"UNQ.\", \"-\") for x in lst]\n",
    "        lst2 = lst[-5:]\n",
    "        lst_buy = [lst2[0],lst2[2],'-','-',lst2[3]]\n",
    "        lst_sell = [lst2[1],lst2[4],lst2[4],lst2[4]]\n",
    "        lst_rows.append([lst[1],lst_buy,lst_sell])\n",
    "    return lst_rows\n",
    "    #return soup"
   ]
  },
  {
   "cell_type": "markdown",
   "metadata": {},
   "source": [
    "#get currency"
   ]
  },
  {
   "cell_type": "code",
   "execution_count": 662,
   "metadata": {},
   "outputs": [],
   "source": [
    "def get_currency(all_bank_data):\n",
    "    currency_list = []\n",
    "    for d in all_bank_data:\n",
    "        for index,currency in enumerate(d):\n",
    "            if index >= 3 :\n",
    "                currency_list.append(currency[0])\n",
    "            else:#USD\n",
    "                if index == 0:\n",
    "                    currency[0] = 'USD1'\n",
    "                if index == 1:\n",
    "                    currency[0] = 'USD5'\n",
    "                if index == 2:\n",
    "                    currency[0] = 'USD50'\n",
    "                currency_list.append(currency[0])\n",
    "\n",
    "    #return list(set([x for x in currency_list if currency_list.count(x) == len(all_bank_data)]))\n",
    "    return list(set(currency_list))"
   ]
  },
  {
   "cell_type": "markdown",
   "metadata": {},
   "source": [
    "#start browser"
   ]
  },
  {
   "cell_type": "code",
   "execution_count": 212,
   "metadata": {},
   "outputs": [
    {
     "name": "stderr",
     "output_type": "stream",
     "text": [
      "C:\\Users\\Administrator\\AppData\\Local\\Temp\\ipykernel_14084\\2120961943.py:6: DeprecationWarning: executable_path has been deprecated, please pass in a Service object\n",
      "  browser = webdriver.Chrome(options=options, executable_path='99.0.4844.51/chromedriver_win32/chromedriver.exe')\n"
     ]
    }
   ],
   "source": [
    "browser = start_browser()\n",
    "kasi_data = kasikorn(website[0])\n",
    "scb_data = scb(website[1])\n",
    "bangkok_data = bangkok(website[2])\n",
    "krungthai_data = krungthai(website[3])\n",
    "krungsri_data = krungsri(website[4])\n",
    "end_browser(browser)"
   ]
  },
  {
   "cell_type": "code",
   "execution_count": null,
   "metadata": {},
   "outputs": [],
   "source": []
  },
  {
   "cell_type": "code",
   "execution_count": 125,
   "metadata": {},
   "outputs": [],
   "source": [
    "f = open('text.txt', 'w')\n",
    "with open('text.txt', 'w',encoding='utf-8') as f:\n",
    "    f.write(str(soup))"
   ]
  },
  {
   "cell_type": "code",
   "execution_count": 444,
   "metadata": {},
   "outputs": [],
   "source": [
    "# k_test = str(kasi_data)\n",
    "# scb_test = str(scb_data)\n",
    "# bangkok_test = str(bangkok_data)\n",
    "# krungthai_test = str(krungthai_data)\n",
    "# krungsri_test = str(krungsri_data)"
   ]
  },
  {
   "cell_type": "code",
   "execution_count": 572,
   "metadata": {},
   "outputs": [],
   "source": [
    "# f = open('text.txt', 'w')\n",
    "# with open('text.txt', 'w',encoding='utf-8') as f:\n",
    "#     f.write(str(krungsri_test))"
   ]
  },
  {
   "cell_type": "code",
   "execution_count": null,
   "metadata": {},
   "outputs": [],
   "source": [
    "# scb_test"
   ]
  },
  {
   "cell_type": "code",
   "execution_count": 667,
   "metadata": {},
   "outputs": [
    {
     "data": {
      "text/plain": [
       "25"
      ]
     },
     "execution_count": 667,
     "metadata": {},
     "output_type": "execute_result"
    }
   ],
   "source": [
    "len(krungthai_data)"
   ]
  },
  {
   "cell_type": "code",
   "execution_count": 668,
   "metadata": {},
   "outputs": [
    {
     "data": {
      "text/plain": [
       "33"
      ]
     },
     "execution_count": 668,
     "metadata": {},
     "output_type": "execute_result"
    }
   ],
   "source": [
    "len(kasi_data)"
   ]
  },
  {
   "cell_type": "code",
   "execution_count": 669,
   "metadata": {},
   "outputs": [
    {
     "data": {
      "text/plain": [
       "29"
      ]
     },
     "execution_count": 669,
     "metadata": {},
     "output_type": "execute_result"
    }
   ],
   "source": [
    "len(scb_data)"
   ]
  },
  {
   "cell_type": "code",
   "execution_count": 670,
   "metadata": {},
   "outputs": [
    {
     "data": {
      "text/plain": [
       "33"
      ]
     },
     "execution_count": 670,
     "metadata": {},
     "output_type": "execute_result"
    }
   ],
   "source": [
    "len(bangkok_data)"
   ]
  },
  {
   "cell_type": "code",
   "execution_count": 671,
   "metadata": {},
   "outputs": [
    {
     "data": {
      "text/plain": [
       "30"
      ]
     },
     "execution_count": 671,
     "metadata": {},
     "output_type": "execute_result"
    }
   ],
   "source": [
    "len(krungsri_data)"
   ]
  },
  {
   "cell_type": "markdown",
   "metadata": {},
   "source": [
    "#test bank"
   ]
  },
  {
   "cell_type": "code",
   "execution_count": null,
   "metadata": {},
   "outputs": [],
   "source": [
    "# my_headers = {'User-Agent': \"Mozilla/5.0 (Windows NT 10.0; Win64; x64) AppleWebKit/537.36 (KHTML, like Gecko) Chrome/99.0.4844.82 Safari/537.36\"}\n",
    "# url = 'https://exchangerate.krungthai.com/'\n",
    "# res = requests.get(url,headers=my_headers)\n",
    "# soup = BeautifulSoup(res.text, 'html.parser')\n"
   ]
  },
  {
   "cell_type": "markdown",
   "metadata": {},
   "source": [
    "#get_currency"
   ]
  },
  {
   "cell_type": "code",
   "execution_count": 710,
   "metadata": {},
   "outputs": [],
   "source": [
    "all_bank_data = [kasi_data.copy(),scb_data.copy(),bangkok_data.copy(),krungthai_data.copy(),krungsri_data.copy()]\n"
   ]
  },
  {
   "cell_type": "code",
   "execution_count": 714,
   "metadata": {},
   "outputs": [
    {
     "data": {
      "text/plain": [
       "['USD1',\n",
       " ['32.42000', '33.18000', '-', '-', '33.28000'],\n",
       " ['33.80000', '33.78000', '33.78000', '33.78000']]"
      ]
     },
     "execution_count": 714,
     "metadata": {},
     "output_type": "execute_result"
    }
   ],
   "source": [
    "all_bank_data[4][0]"
   ]
  },
  {
   "cell_type": "code",
   "execution_count": 715,
   "metadata": {},
   "outputs": [],
   "source": [
    "currency_list = get_currency(all_bank_data)"
   ]
  },
  {
   "cell_type": "code",
   "execution_count": 716,
   "metadata": {},
   "outputs": [
    {
     "data": {
      "text/plain": [
       "35"
      ]
     },
     "execution_count": 716,
     "metadata": {},
     "output_type": "execute_result"
    }
   ],
   "source": [
    "len(currency_list)"
   ]
  },
  {
   "cell_type": "markdown",
   "metadata": {},
   "source": [
    "#pack all data to csv file"
   ]
  },
  {
   "cell_type": "code",
   "execution_count": 717,
   "metadata": {},
   "outputs": [],
   "source": [
    "\n",
    "############## all currency without usd1,5-20,50-100\n",
    "for currency in currency_list:\n",
    "    ##########\n",
    "    bank_name = {0 : 'ธนาคารกสิกรไทย',1 : 'ธนาคารไทยพาณิชย์',2 : 'ธนาคารกรุงเทพ',3 : 'ธนาคารกรุงไทย',4 : 'ธนาคารกรุงศรีอยุธยา'}\n",
    "\n",
    "    bank = pd.DataFrame()\n",
    "    bank = bank.reindex(columns=['ธนาคาร'])\n",
    "    #bank.columns = pd.MultiIndex.from_product(bank.columns])\n",
    "\n",
    "    buy_rate = ['ธนบัตร', 'ตั๋วเงิน', 'เช็คเดินทาง','ตั๋วแลกเงิน&ดราฟ','โอนเงินทางโทรเลข/โอนเงิน']\n",
    "    br = pd.DataFrame()\n",
    "    br = br.reindex(columns=buy_rate)\n",
    "    br.columns = pd.MultiIndex.from_product([[\"ราคาที่ธนาคารรับซื้อ\"], br.columns])\n",
    "\n",
    "    sell_rate = ['ธนบัตร', 'เช็คเดินทาง', 'ตั๋วแลกเงิน&ดราฟ','โอนเงินทางโทรเลข/โอนเงิน']\n",
    "    sr = pd.DataFrame()\n",
    "    sr = sr.reindex(columns=sell_rate)\n",
    "    sr.columns = pd.MultiIndex.from_product([[\"ราคาที่ธนาคารขาย\"], sr.columns])\n",
    "\n",
    "    result = pd.concat([br,sr], axis=1, join='inner')\n",
    "    result = pd.concat([bank,result], axis=1, join='inner')##########################\n",
    "    \n",
    "\n",
    "    for index,bank in enumerate(all_bank_data):\n",
    "        data_list = []\n",
    "        get_cur = False      \n",
    "        for currency_data in bank:\n",
    "            if currency_data[0] == currency:\n",
    "                data_list = [bank_name[index]]+currency_data[1]+currency_data[2]\n",
    "                result.loc[len(result)] = data_list\n",
    "                get_cur = True\n",
    "                break\n",
    "        if get_cur == False:\n",
    "            #print(bank_name[index],currency)\n",
    "            result.loc[len(result)] = [bank_name[index]]+['-','-','-','-','-']+['-','-','-','-']\n",
    "                \n",
    "\n",
    "    result.to_csv('bank_buy_sell_rate/'+str(currency)+'.csv',index=False)"
   ]
  },
  {
   "cell_type": "code",
   "execution_count": 718,
   "metadata": {},
   "outputs": [
    {
     "data": {
      "text/html": [
       "<div>\n",
       "<style scoped>\n",
       "    .dataframe tbody tr th:only-of-type {\n",
       "        vertical-align: middle;\n",
       "    }\n",
       "\n",
       "    .dataframe tbody tr th {\n",
       "        vertical-align: top;\n",
       "    }\n",
       "\n",
       "    .dataframe thead th {\n",
       "        text-align: right;\n",
       "    }\n",
       "</style>\n",
       "<table border=\"1\" class=\"dataframe\">\n",
       "  <thead>\n",
       "    <tr style=\"text-align: right;\">\n",
       "      <th></th>\n",
       "      <th>ธนาคาร</th>\n",
       "      <th>(ราคาที่ธนาคารรับซื้อ, ธนบัตร)</th>\n",
       "      <th>(ราคาที่ธนาคารรับซื้อ, ตั๋วเงิน)</th>\n",
       "      <th>(ราคาที่ธนาคารรับซื้อ, เช็คเดินทาง)</th>\n",
       "      <th>(ราคาที่ธนาคารรับซื้อ, ตั๋วแลกเงิน&amp;ดราฟ)</th>\n",
       "      <th>(ราคาที่ธนาคารรับซื้อ, โอนเงินทางโทรเลข/โอนเงิน)</th>\n",
       "      <th>(ราคาที่ธนาคารขาย, ธนบัตร)</th>\n",
       "      <th>(ราคาที่ธนาคารขาย, เช็คเดินทาง)</th>\n",
       "      <th>(ราคาที่ธนาคารขาย, ตั๋วแลกเงิน&amp;ดราฟ)</th>\n",
       "      <th>(ราคาที่ธนาคารขาย, โอนเงินทางโทรเลข/โอนเงิน)</th>\n",
       "    </tr>\n",
       "  </thead>\n",
       "  <tbody>\n",
       "    <tr>\n",
       "      <th>0</th>\n",
       "      <td>ธนาคารกสิกรไทย</td>\n",
       "      <td>7.72743</td>\n",
       "      <td>-</td>\n",
       "      <td>-</td>\n",
       "      <td>-</td>\n",
       "      <td>8.73333</td>\n",
       "      <td>9.61151</td>\n",
       "      <td>9.55964</td>\n",
       "      <td>9.55964</td>\n",
       "      <td>9.55964</td>\n",
       "    </tr>\n",
       "    <tr>\n",
       "      <th>1</th>\n",
       "      <td>ธนาคารไทยพาณิชย์</td>\n",
       "      <td>7.8</td>\n",
       "      <td>-</td>\n",
       "      <td>-</td>\n",
       "      <td>-</td>\n",
       "      <td>-</td>\n",
       "      <td>9.99</td>\n",
       "      <td>-</td>\n",
       "      <td>-</td>\n",
       "      <td>-</td>\n",
       "    </tr>\n",
       "    <tr>\n",
       "      <th>2</th>\n",
       "      <td>ธนาคารกรุงเทพ</td>\n",
       "      <td>7.99</td>\n",
       "      <td>-</td>\n",
       "      <td>-</td>\n",
       "      <td>-</td>\n",
       "      <td>-</td>\n",
       "      <td>9.17</td>\n",
       "      <td>-</td>\n",
       "      <td>-</td>\n",
       "      <td>-</td>\n",
       "    </tr>\n",
       "    <tr>\n",
       "      <th>3</th>\n",
       "      <td>ธนาคารกรุงไทย</td>\n",
       "      <td>7.57</td>\n",
       "      <td>-</td>\n",
       "      <td>-</td>\n",
       "      <td>-</td>\n",
       "      <td>8.65198</td>\n",
       "      <td>9.69</td>\n",
       "      <td>9.67476</td>\n",
       "      <td>-</td>\n",
       "      <td>-</td>\n",
       "    </tr>\n",
       "    <tr>\n",
       "      <th>4</th>\n",
       "      <td>ธนาคารกรุงศรีอยุธยา</td>\n",
       "      <td>7.58000</td>\n",
       "      <td>-</td>\n",
       "      <td>-</td>\n",
       "      <td>-</td>\n",
       "      <td>-</td>\n",
       "      <td>9.57000</td>\n",
       "      <td>-</td>\n",
       "      <td>-</td>\n",
       "      <td>-</td>\n",
       "    </tr>\n",
       "  </tbody>\n",
       "</table>\n",
       "</div>"
      ],
      "text/plain": [
       "                ธนาคาร (ราคาที่ธนาคารรับซื้อ, ธนบัตร)  \\\n",
       "0       ธนาคารกสิกรไทย                        7.72743   \n",
       "1     ธนาคารไทยพาณิชย์                            7.8   \n",
       "2        ธนาคารกรุงเทพ                           7.99   \n",
       "3        ธนาคารกรุงไทย                           7.57   \n",
       "4  ธนาคารกรุงศรีอยุธยา                        7.58000   \n",
       "\n",
       "  (ราคาที่ธนาคารรับซื้อ, ตั๋วเงิน) (ราคาที่ธนาคารรับซื้อ, เช็คเดินทาง)  \\\n",
       "0                                -                                   -   \n",
       "1                                -                                   -   \n",
       "2                                -                                   -   \n",
       "3                                -                                   -   \n",
       "4                                -                                   -   \n",
       "\n",
       "  (ราคาที่ธนาคารรับซื้อ, ตั๋วแลกเงิน&ดราฟ)  \\\n",
       "0                                        -   \n",
       "1                                        -   \n",
       "2                                        -   \n",
       "3                                        -   \n",
       "4                                        -   \n",
       "\n",
       "  (ราคาที่ธนาคารรับซื้อ, โอนเงินทางโทรเลข/โอนเงิน) (ราคาที่ธนาคารขาย, ธนบัตร)  \\\n",
       "0                                          8.73333                    9.61151   \n",
       "1                                                -                       9.99   \n",
       "2                                                -                       9.17   \n",
       "3                                          8.65198                       9.69   \n",
       "4                                                -                    9.57000   \n",
       "\n",
       "  (ราคาที่ธนาคารขาย, เช็คเดินทาง) (ราคาที่ธนาคารขาย, ตั๋วแลกเงิน&ดราฟ)  \\\n",
       "0                         9.55964                              9.55964   \n",
       "1                               -                                    -   \n",
       "2                               -                                    -   \n",
       "3                         9.67476                                    -   \n",
       "4                               -                                    -   \n",
       "\n",
       "  (ราคาที่ธนาคารขาย, โอนเงินทางโทรเลข/โอนเงิน)  \n",
       "0                                      9.55964  \n",
       "1                                            -  \n",
       "2                                            -  \n",
       "3                                            -  \n",
       "4                                            -  "
      ]
     },
     "execution_count": 718,
     "metadata": {},
     "output_type": "execute_result"
    }
   ],
   "source": [
    "result"
   ]
  },
  {
   "cell_type": "code",
   "execution_count": 33,
   "metadata": {},
   "outputs": [],
   "source": [
    "# buy_rate = ['ธนบัตร', 'ตั๋วเงิน', 'เช็คเดินทาง','ตั๋วแลกเงิน&ดราฟ','โอนเงินทางโทรเลข/โอนเงิน']\n",
    "# br = pd.DataFrame()\n",
    "# br = br.reindex(columns = buy_rate)"
   ]
  },
  {
   "cell_type": "code",
   "execution_count": 34,
   "metadata": {},
   "outputs": [],
   "source": [
    "# sell_rate = ['ธนบัตร', 'เช็คเดินทาง', 'ตั๋วแลกเงิน&ดราฟ','โอนเงินทางโทรเลข/โอนเงิน']\n",
    "# sr = pd.DataFrame()\n",
    "# sr = sr.reindex(columns = sell_rate)"
   ]
  },
  {
   "cell_type": "code",
   "execution_count": 35,
   "metadata": {},
   "outputs": [],
   "source": [
    "# br"
   ]
  },
  {
   "cell_type": "code",
   "execution_count": 36,
   "metadata": {},
   "outputs": [],
   "source": [
    "# sr"
   ]
  },
  {
   "cell_type": "code",
   "execution_count": 37,
   "metadata": {},
   "outputs": [],
   "source": [
    "# for i,d in enumerate(kasi_data):\n",
    "#     #print(d[0]+d[1])\n",
    "#     dd = d[1]\n",
    "#     br.loc[len(br)] = dd"
   ]
  },
  {
   "cell_type": "code",
   "execution_count": 38,
   "metadata": {},
   "outputs": [],
   "source": [
    "# br"
   ]
  },
  {
   "cell_type": "code",
   "execution_count": 39,
   "metadata": {},
   "outputs": [],
   "source": [
    "#df.to_csv('thb-usd.csv',index=False)"
   ]
  },
  {
   "cell_type": "code",
   "execution_count": null,
   "metadata": {},
   "outputs": [],
   "source": []
  },
  {
   "cell_type": "code",
   "execution_count": 40,
   "metadata": {},
   "outputs": [],
   "source": [
    "# f = open('text.txt', 'w')\n",
    "# with open('text.txt', 'w',encoding='utf-8') as f:\n",
    "#     f.write(str(soup))"
   ]
  },
  {
   "cell_type": "code",
   "execution_count": 41,
   "metadata": {},
   "outputs": [],
   "source": [
    "#soup"
   ]
  }
 ],
 "metadata": {
  "interpreter": {
   "hash": "69eb92836b941e979072a76c7fcfffe5419cca933cedd02cfafbdfca1a93358c"
  },
  "kernelspec": {
   "display_name": "Python 3.9.10 64-bit",
   "language": "python",
   "name": "python3"
  },
  "language_info": {
   "codemirror_mode": {
    "name": "ipython",
    "version": 3
   },
   "file_extension": ".py",
   "mimetype": "text/x-python",
   "name": "python",
   "nbconvert_exporter": "python",
   "pygments_lexer": "ipython3",
   "version": "3.9.12"
  },
  "orig_nbformat": 4
 },
 "nbformat": 4,
 "nbformat_minor": 2
}
