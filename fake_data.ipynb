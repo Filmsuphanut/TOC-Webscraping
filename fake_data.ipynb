{
 "cells": [
  {
   "cell_type": "code",
   "execution_count": 14,
   "metadata": {},
   "outputs": [],
   "source": [
    "import random\n",
    "import glob"
   ]
  },
  {
   "cell_type": "code",
   "execution_count": 15,
   "metadata": {},
   "outputs": [],
   "source": [
    "filename = glob.glob('bank_buy_sell_rate//**')"
   ]
  },
  {
   "cell_type": "code",
   "execution_count": null,
   "metadata": {},
   "outputs": [],
   "source": [
    "country_lst = []\n",
    "for name in filename:\n",
    "    country_lst.append(str(name[19:-4]))\n",
    "    print(name[19:-4])"
   ]
  },
  {
   "cell_type": "code",
   "execution_count": null,
   "metadata": {},
   "outputs": [],
   "source": [
    "[\n",
    "    {\"currency\" : \"USD50\", \"country\" : \"Sweden.png\", \"status\" : \"up\", \"price\" : \"33.00\" , \"change\" : \"1.00\" , \"percentage\" : \"1.00%\"},\n",
    "    {\"currency\" : \"USD50\", \"country\" : \"Sweden.png\", \"status\" : \"down\",\"price\" : \"33.00\" ,  \"change\" : \"1.00\" , \"percentage\" : \"1.00%\"},\n",
    "    {\"currency\" : \"USD50\", \"country\" : \"Sweden.png\", \"status\" : \"equal\",\"price\" : \"33.00\" ,  \"change\" : \"1.00\" , \"percentage\" : \"1.00%\"},\n",
    "    {\"currency\" : \"USD50\", \"country\" : \"Sweden.png\", \"status\" : \"up\",\"price\" : \"33.00\" ,  \"change\" : \"1.00\" , \"percentage\" : \"1.00%\"},\n",
    "    {\"currency\" : \"USD50\", \"country\" : \"Sweden.png\", \"status\" : \"down\",\"price\" : \"33.00\" ,  \"change\" : \"1.00\" , \"percentage\" : \"1.00%\"},\n",
    "    {\"currency\" : \"USD50\", \"country\" : \"Sweden.png\", \"status\" : \"up\",\"price\" : \"33.00\" ,  \"change\" : \"1.00\" , \"percentage\" : \"1.00%\"},\n",
    "    {\"currency\" : \"USD50\", \"country\" : \"Sweden.png\", \"status\" : \"up\",\"price\" : \"33.00\" ,  \"change\" : \"1.00\" , \"percentage\" : \"1.00%\"},\n",
    "    {\"currency\" : \"USD50\", \"country\" : \"Sweden.png\", \"status\" : \"up\",\"price\" : \"33.00\" ,  \"change\" : \"1.00\" , \"percentage\" : \"1.00%\"},\n",
    "    {\"currency\" : \"USD50\", \"country\" : \"Sweden.png\", \"status\" : \"up\",\"price\" : \"33.00\" ,  \"change\" : \"1.00\" , \"percentage\" : \"1.00%\"},\n",
    "    {\"currency\" : \"USD50\", \"country\" : \"Sweden.png\", \"status\" : \"up\",\"price\" : \"33.00\" ,  \"change\" : \"1.00\" , \"percentage\" : \"1.00%\"}\n",
    "]"
   ]
  },
  {
   "cell_type": "code",
   "execution_count": 30,
   "metadata": {},
   "outputs": [
    {
     "name": "stdout",
     "output_type": "stream",
     "text": [
      "{\"currency\" : \"CAD\", \"name\":\"united states of america\" , \"country\" : \"Sweden.png\", \"description\":\"Baht\",\"status\" : \"down\", \"price\" :\"71.32\", Open : \"65.11\" , high : \"187.39\" , low : \"124.49\", \"change\" : \"+4.18\" , \"percentage\" : \"+1.78%\"},\n",
      "{\"currency\" : \"KRW\", \"name\":\"united states of america\" , \"country\" : \"Sweden.png\", \"description\":\"Baht\",\"status\" : \"up\", \"price\" :\"124.07\", Open : \"68.64\" , high : \"95.86\" , low : \"48.08\", \"change\" : \"+3.36\" , \"percentage\" : \"+0.52%\"},\n",
      "{\"currency\" : \"USD1\", \"name\":\"united states of america\" , \"country\" : \"Sweden.png\", \"description\":\"Baht\",\"status\" : \"equal\", \"price\" :\"46.76\", Open : \"199.52\" , high : \"15.41\" , low : \"22.46\", \"change\" : \"+2.4\" , \"percentage\" : \"+1.09%\"},\n",
      "{\"currency\" : \"VND\", \"name\":\"united states of america\" , \"country\" : \"Sweden.png\", \"description\":\"Baht\",\"status\" : \"down\", \"price\" :\"41.36\", Open : \"195.5\" , high : \"145.57\" , low : \"113.44\", \"change\" : \"+0.11\" , \"percentage\" : \"+0.04%\"},\n",
      "{\"currency\" : \"KHR\", \"name\":\"united states of america\" , \"country\" : \"Sweden.png\", \"description\":\"Baht\",\"status\" : \"up\", \"price\" :\"115.03\", Open : \"17.26\" , high : \"122.04\" , low : \"198.68\", \"change\" : \"+3.09\" , \"percentage\" : \"+0.85%\"},\n",
      "{\"currency\" : \"IDR\", \"name\":\"united states of america\" , \"country\" : \"Sweden.png\", \"description\":\"Baht\",\"status\" : \"down\", \"price\" :\"139.29\", Open : \"177.54\" , high : \"152.58\" , low : \"81.91\", \"change\" : \"+2.8\" , \"percentage\" : \"+1.44%\"},\n",
      "{\"currency\" : \"LAK\", \"name\":\"united states of america\" , \"country\" : \"Sweden.png\", \"description\":\"Baht\",\"status\" : \"equal\", \"price\" :\"89.14\", Open : \"78.14\" , high : \"32.2\" , low : \"38.8\", \"change\" : \"+1.31\" , \"percentage\" : \"+1.55%\"},\n",
      "{\"currency\" : \"KHR\", \"name\":\"united states of america\" , \"country\" : \"Sweden.png\", \"description\":\"Baht\",\"status\" : \"up\", \"price\" :\"48.6\", Open : \"100.32\" , high : \"22.69\" , low : \"106.19\", \"change\" : \"+1.18\" , \"percentage\" : \"+0.48%\"},\n",
      "{\"currency\" : \"BHD\", \"name\":\"united states of america\" , \"country\" : \"Sweden.png\", \"description\":\"Baht\",\"status\" : \"equal\", \"price\" :\"1.96\", Open : \"163.11\" , high : \"65.01\" , low : \"83.15\", \"change\" : \"+1.7\" , \"percentage\" : \"+1.15%\"},\n",
      "{\"currency\" : \"PHP\", \"name\":\"united states of america\" , \"country\" : \"Sweden.png\", \"description\":\"Baht\",\"status\" : \"down\", \"price\" :\"111.91\", Open : \"172.51\" , high : \"100.26\" , low : \"164.37\", \"change\" : \"+4.77\" , \"percentage\" : \"+0.84%\"},\n",
      "{\"currency\" : \"AUD\", \"name\":\"united states of america\" , \"country\" : \"Sweden.png\", \"description\":\"Baht\",\"status\" : \"equal\", \"price\" :\"14.38\", Open : \"187.51\" , high : \"176.0\" , low : \"68.82\", \"change\" : \"+4.88\" , \"percentage\" : \"+0.39%\"},\n"
     ]
    }
   ],
   "source": [
    "status = [\"up\",\"down\",\"equal\"]\n",
    "price =  \"\"\n",
    "change = \"\"\n",
    "percen = round(random.uniform(0, 2),2)\n",
    "name = \"united states of america\"\n",
    "des= \"Baht\"\n",
    "for i in range(11):\n",
    "    print('{\"currency\" : \"' + country_lst[random.randint(0, len(country_lst))]  + '\", \"name\":\"'+name+'\" , \"country\" : \"Sweden.png\", \"description\":\"'+des+'\",\"status\" : \"' + status[random.randint(0, 2)] +  '\", \"price\" :\"' + str(round(random.uniform(0, 200),2))+ '\", Open : \"'+str(round(random.uniform(0, 200),2))+'\" , high : \"'+str(round(random.uniform(0, 200),2))+'\" , low : \"'+str(round(random.uniform(0, 200),2))+'\", \"change\" : \"+'+ str(round(random.uniform(0, 5),2))+'\" , \"percentage\" : \"+'+ str(round(random.uniform(0, 2),2))+'%\"},')"
   ]
  },
  {
   "cell_type": "code",
   "execution_count": 34,
   "metadata": {},
   "outputs": [
    {
     "name": "stdout",
     "output_type": "stream",
     "text": [
      "{\"currency\" : \"AED\",\"country\" : \"United State\"},\n",
      "{\"currency\" : \"AUD\",\"country\" : \"United State\"},\n",
      "{\"currency\" : \"BHD\",\"country\" : \"United State\"},\n",
      "{\"currency\" : \"BND\",\"country\" : \"United State\"},\n",
      "{\"currency\" : \"BRL\",\"country\" : \"United State\"},\n",
      "{\"currency\" : \"CAD\",\"country\" : \"United State\"},\n",
      "{\"currency\" : \"CHF\",\"country\" : \"United State\"},\n",
      "{\"currency\" : \"CNY\",\"country\" : \"United State\"},\n",
      "{\"currency\" : \"DKK\",\"country\" : \"United State\"},\n",
      "{\"currency\" : \"EUR\",\"country\" : \"United State\"},\n",
      "{\"currency\" : \"GBP\",\"country\" : \"United State\"},\n",
      "{\"currency\" : \"HKD\",\"country\" : \"United State\"},\n",
      "{\"currency\" : \"IDR\",\"country\" : \"United State\"},\n",
      "{\"currency\" : \"INR\",\"country\" : \"United State\"},\n",
      "{\"currency\" : \"JPY\",\"country\" : \"United State\"},\n",
      "{\"currency\" : \"KHR\",\"country\" : \"United State\"},\n",
      "{\"currency\" : \"KRW\",\"country\" : \"United State\"},\n",
      "{\"currency\" : \"LAK\",\"country\" : \"United State\"},\n",
      "{\"currency\" : \"MMK\",\"country\" : \"United State\"},\n",
      "{\"currency\" : \"MYR\",\"country\" : \"United State\"},\n",
      "{\"currency\" : \"NOK\",\"country\" : \"United State\"},\n",
      "{\"currency\" : \"NZD\",\"country\" : \"United State\"},\n",
      "{\"currency\" : \"OMR\",\"country\" : \"United State\"},\n",
      "{\"currency\" : \"PHP\",\"country\" : \"United State\"},\n",
      "{\"currency\" : \"QAR\",\"country\" : \"United State\"},\n",
      "{\"currency\" : \"RUB\",\"country\" : \"United State\"},\n",
      "{\"currency\" : \"SAR\",\"country\" : \"United State\"},\n",
      "{\"currency\" : \"SEK\",\"country\" : \"United State\"},\n",
      "{\"currency\" : \"SGD\",\"country\" : \"United State\"},\n",
      "{\"currency\" : \"TWD\",\"country\" : \"United State\"},\n",
      "{\"currency\" : \"USD1\",\"country\" : \"United State\"},\n",
      "{\"currency\" : \"USD5-20\",\"country\" : \"United State\"},\n",
      "{\"currency\" : \"USD50-100\",\"country\" : \"United State\"},\n",
      "{\"currency\" : \"VND\",\"country\" : \"United State\"},\n",
      "{\"currency\" : \"ZAR\",\"country\" : \"United State\"},\n"
     ]
    }
   ],
   "source": [
    "for i in country_lst:\n",
    "    print('{\"currency\" : \"'+i+'\",\"country\" : \"United State\"},')\n"
   ]
  }
 ],
 "metadata": {
  "interpreter": {
   "hash": "f7e022b67859ae4a791bbcc1c75bde8b3a5bef3b9abb0060fdb4399d638fb2f6"
  },
  "kernelspec": {
   "display_name": "Python 3.9.12 64-bit",
   "language": "python",
   "name": "python3"
  },
  "language_info": {
   "codemirror_mode": {
    "name": "ipython",
    "version": 3
   },
   "file_extension": ".py",
   "mimetype": "text/x-python",
   "name": "python",
   "nbconvert_exporter": "python",
   "pygments_lexer": "ipython3",
   "version": "3.9.12"
  },
  "orig_nbformat": 4
 },
 "nbformat": 4,
 "nbformat_minor": 2
}
