{
 "cells": [
  {
   "cell_type": "code",
   "execution_count": 252,
   "metadata": {},
   "outputs": [],
   "source": [
    "from bs4 import BeautifulSoup, Comment\n",
    "import requests\n",
    "import regex as re\n",
    "import xml\n",
    "from selenium import webdriver\n",
    "import pandas as pd\n",
    "import random"
   ]
  },
  {
   "cell_type": "code",
   "execution_count": 253,
   "metadata": {},
   "outputs": [],
   "source": [
    "website = [\"https://www.kasikornbank.com/en/rate/pages/foreign-exchange.aspx\",\n",
    "\"https://www.scb.co.th/th/personal-banking/foreign-exchange-rates.html\",\n",
    "\"https://www.bangkokbank.com/th-TH/Personal/Other-Services/View-Rates/Foreign-Exchange-Rates\",\n",
    "\"https://exchangerate.krungthai.com/#/counterRate\",\n",
    "\"https://www.krungsri.com/th/exchangerate/Todayrates\"]\n",
    "#ธนาคารซื้อ #ธนาคารขาย"
   ]
  },
  {
   "cell_type": "markdown",
   "metadata": {},
   "source": [
    "#Remove HTML T A G S by regex |||||||||| Actually, use get_text() Function. It's much easier. =,,="
   ]
  },
  {
   "cell_type": "code",
   "execution_count": 254,
   "metadata": {},
   "outputs": [],
   "source": [
    "def remove_tag(html_str):\n",
    "    TAG_RE = re.compile(r'<[^>]+>')\n",
    "    text = TAG_RE.sub('!@', html_str)\n",
    "    mylist = re.split(r'!@', text)\n",
    "    clear_lst = []\n",
    "    for clear_text in mylist:\n",
    "        if (clear_text not in \"\\n\") and (clear_text not in \" \") and (clear_text not in \"\"):\n",
    "            clear_lst.append(clear_text)\n",
    "    return clear_lst\n",
    "#https://www.guru99.com/python-regular-expressions-complete-tutorial.html"
   ]
  },
  {
   "cell_type": "markdown",
   "metadata": {},
   "source": [
    "#start browser"
   ]
  },
  {
   "cell_type": "code",
   "execution_count": 255,
   "metadata": {},
   "outputs": [],
   "source": [
    "def start_browser():\n",
    "    options = webdriver.ChromeOptions()\n",
    "    options.add_argument('--headless')\n",
    "    # executable_path param is not needed if you updated PATH\n",
    "    browser = webdriver.Chrome(options=options, executable_path='99.0.4844.51/chromedriver_win32/chromedriver.exe')\n",
    "    return browser\n",
    "\n",
    "def end_browser(browser):\n",
    "    browser.quit()\n"
   ]
  },
  {
   "cell_type": "markdown",
   "metadata": {},
   "source": [
    "#bank"
   ]
  },
  {
   "cell_type": "code",
   "execution_count": 256,
   "metadata": {},
   "outputs": [],
   "source": [
    "def kasikorn(url): #33\n",
    "    browser = start_browser()\n",
    "    browser.get(url)\n",
    "    html = browser.page_source\n",
    "    soup = BeautifulSoup(html, features=\"html.parser\")\n",
    "    end_browser(browser)\n",
    "\n",
    "    #clean soup data\n",
    "    data = soup.find('div',{\"id\" : \"divTableRate\"}).find('tbody').find_all('tr')\n",
    "    lst_rows = []\n",
    "    for index,value in enumerate(data):\n",
    "        if index%2==0:\n",
    "            lst = remove_tag(str(value))\n",
    "            lst2 = lst[2:]\n",
    "            lst_buy = [lst2[3],lst2[1],lst2[0],\"-\",lst2[2]]\n",
    "            lst_sell = [lst2[5],lst2[4],lst2[4],lst2[4]]\n",
    "            lst_rows.append([lst[0].replace(\" \",\"\"),lst_buy,lst_sell])\n",
    "    \n",
    "    return lst_rows"
   ]
  },
  {
   "cell_type": "code",
   "execution_count": 257,
   "metadata": {},
   "outputs": [],
   "source": [
    "def scb(url): #29\n",
    "    browser = start_browser()\n",
    "    browser.get(url)\n",
    "    html = browser.page_source\n",
    "    soup = BeautifulSoup(html, features=\"html.parser\")\n",
    "    end_browser(browser)\n",
    "    \n",
    "    #clean soup data\n",
    "    data = soup.find('div',{\"class\" : \"exchange-rate\"}).find('tbody').find_all('tr')\n",
    "    data = data[2:]\n",
    "    lst_rows = []\n",
    "    for index,value in enumerate(data):\n",
    "        lst = remove_tag(str(value))\n",
    "        lst2 = lst[2:]\n",
    "        lst_buy = [lst2[5],lst2[3],lst2[4],\"-\",lst2[2]]\n",
    "        lst_sell = [lst2[1],lst2[0],lst2[0],\"-\"]\n",
    "        lst_rows.append([lst[0],lst_buy,lst_sell])\n",
    "    return lst_rows\n",
    "    "
   ]
  },
  {
   "cell_type": "code",
   "execution_count": 258,
   "metadata": {},
   "outputs": [],
   "source": [
    "def bangkok(url):\n",
    "    browser = start_browser()\n",
    "    browser.get(url)\n",
    "    html = browser.page_source\n",
    "    soup = BeautifulSoup(html, features=\"html.parser\")\n",
    "    end_browser(browser)\n",
    "\n",
    "    #clean soup data\n",
    "    data = soup.find('table',{\"class\" : \"table-primary table-foreign-exchange-rates blue\"}).find('tbody').find_all('tr')\n",
    "    lst_rows = []\n",
    "    for index,value in enumerate(data):\n",
    "        clear_lst = remove_tag(str(value))\n",
    "        clear_lst = [x.replace(\" \", \"\") for x in clear_lst]\n",
    "        while(len(clear_lst) < 7):\n",
    "            clear_lst.append('-')\n",
    "        lst2 = clear_lst[2:]\n",
    "        lst_buy = [lst2[0],'-','-',lst2[2],lst2[3]]\n",
    "        lst_sell = [lst2[1],\"-\",lst2[4],lst2[4]]\n",
    "        lst_rows.append([clear_lst[0],lst_buy,lst_sell])\n",
    "    return lst_rows"
   ]
  },
  {
   "cell_type": "code",
   "execution_count": 259,
   "metadata": {},
   "outputs": [],
   "source": [
    "# def krungthai(url):\n",
    "#     browser = start_browser()\n",
    "#     browser.get(url)\n",
    "#     html = browser.page_source\n",
    "#     soup = BeautifulSoup(html, features=\"html.parser\")\n",
    "#     end_browser(browser)\n",
    "\n",
    "#     #clean soup data\n",
    "#     data = soup.find('table',{\"id\" : \"cur-table-1\"}).find('tbody').find_all('tr',{\"class\" : \"ng-scope\"})\n",
    "#     lst_rows = []\n",
    "#     for index,value in enumerate(data):\n",
    "#         if index != 8 :\n",
    "#             clear_lst = remove_tag(str(value))\n",
    "#             clear_lst = [x.replace(\" \", \"\") for x in clear_lst]\n",
    "#             clear_lst = [x.replace(\"Unq\", \"-\") for x in clear_lst]\n",
    "#             lst2 = clear_lst[2:]\n",
    "#             lst_buy = [lst2[3],lst2[0],'-','-',lst2[1]]\n",
    "#             lst_sell = [lst2[4],lst2[2],'-','-']\n",
    "#             lst_rows.append([clear_lst[0],lst_buy,lst_sell])\n",
    "#     return lst_rows"
   ]
  },
  {
   "cell_type": "code",
   "execution_count": 260,
   "metadata": {},
   "outputs": [],
   "source": [
    "def krungsri(url):\n",
    "    browser = start_browser()\n",
    "    browser.get(url)\n",
    "    html = browser.page_source\n",
    "    soup = BeautifulSoup(html, features=\"html.parser\")\n",
    "    end_browser(browser)\n",
    "\n",
    "    #clen soup data\n",
    "    data = soup.find('div',{\"class\" : \"table-scroll\"}).find('tbody').find_all('tr')\n",
    "    lst_rows = []\n",
    "    for index,value in enumerate(data):\n",
    "        lst = remove_tag(str(value))\n",
    "        remove = re.compile(r'\\s|\\xa0|\\*')\n",
    "        lst = [remove.sub('', x) for x in lst]\n",
    "        lst = [x.replace(\"UNQ.\", \"-\") for x in lst]\n",
    "        lst2 = lst[-5:]\n",
    "        lst_buy = [lst2[0],lst2[2],'-','-',lst2[3]]\n",
    "        lst_sell = [lst2[1],lst2[4],lst2[4],lst2[4]]\n",
    "        lst_rows.append([lst[1],lst_buy,lst_sell])\n",
    "    return lst_rows"
   ]
  },
  {
   "cell_type": "markdown",
   "metadata": {},
   "source": [
    "#start browser"
   ]
  },
  {
   "cell_type": "code",
   "execution_count": 261,
   "metadata": {},
   "outputs": [
    {
     "name": "stderr",
     "output_type": "stream",
     "text": [
      "C:\\Users\\Administrator\\AppData\\Local\\Temp\\ipykernel_1380\\1252230772.py:5: DeprecationWarning: executable_path has been deprecated, please pass in a Service object\n",
      "  browser = webdriver.Chrome(options=options, executable_path='99.0.4844.51/chromedriver_win32/chromedriver.exe')\n"
     ]
    }
   ],
   "source": [
    "kasi_data = kasikorn(website[0])"
   ]
  },
  {
   "cell_type": "code",
   "execution_count": 262,
   "metadata": {},
   "outputs": [
    {
     "name": "stderr",
     "output_type": "stream",
     "text": [
      "C:\\Users\\Administrator\\AppData\\Local\\Temp\\ipykernel_1380\\1252230772.py:5: DeprecationWarning: executable_path has been deprecated, please pass in a Service object\n",
      "  browser = webdriver.Chrome(options=options, executable_path='99.0.4844.51/chromedriver_win32/chromedriver.exe')\n"
     ]
    }
   ],
   "source": [
    "scb_data = scb(website[1])"
   ]
  },
  {
   "cell_type": "code",
   "execution_count": 263,
   "metadata": {},
   "outputs": [
    {
     "name": "stderr",
     "output_type": "stream",
     "text": [
      "C:\\Users\\Administrator\\AppData\\Local\\Temp\\ipykernel_1380\\1252230772.py:5: DeprecationWarning: executable_path has been deprecated, please pass in a Service object\n",
      "  browser = webdriver.Chrome(options=options, executable_path='99.0.4844.51/chromedriver_win32/chromedriver.exe')\n"
     ]
    }
   ],
   "source": [
    "bangkok_data = bangkok(website[2])"
   ]
  },
  {
   "cell_type": "code",
   "execution_count": 264,
   "metadata": {},
   "outputs": [],
   "source": [
    "# krungthai_data = krungthai(website[3])"
   ]
  },
  {
   "cell_type": "code",
   "execution_count": 265,
   "metadata": {},
   "outputs": [
    {
     "name": "stderr",
     "output_type": "stream",
     "text": [
      "C:\\Users\\Administrator\\AppData\\Local\\Temp\\ipykernel_1380\\1252230772.py:5: DeprecationWarning: executable_path has been deprecated, please pass in a Service object\n",
      "  browser = webdriver.Chrome(options=options, executable_path='99.0.4844.51/chromedriver_win32/chromedriver.exe')\n"
     ]
    }
   ],
   "source": [
    "krungsri_data = krungsri(website[4])"
   ]
  },
  {
   "cell_type": "code",
   "execution_count": 266,
   "metadata": {},
   "outputs": [
    {
     "data": {
      "text/plain": [
       "['USD1',\n",
       " ['32.3613', '33.27', '33.27', '-', '33.37'],\n",
       " ['33.71', '33.67', '33.67', '33.67']]"
      ]
     },
     "execution_count": 266,
     "metadata": {},
     "output_type": "execute_result"
    }
   ],
   "source": [
    "kasi_data[0]"
   ]
  },
  {
   "cell_type": "code",
   "execution_count": 267,
   "metadata": {},
   "outputs": [
    {
     "data": {
      "text/plain": [
       "['33.1', '33.25', '33.15', '-', '33.35']"
      ]
     },
     "execution_count": 267,
     "metadata": {},
     "output_type": "execute_result"
    }
   ],
   "source": [
    "scb_data[0][1]"
   ]
  },
  {
   "cell_type": "code",
   "execution_count": 268,
   "metadata": {},
   "outputs": [
    {
     "data": {
      "text/plain": [
       "['USD1', ['32.23', '-', '-', '-', '-'], ['33.77', '-', '-', '-']]"
      ]
     },
     "execution_count": 268,
     "metadata": {},
     "output_type": "execute_result"
    }
   ],
   "source": [
    "bangkok_data[0]"
   ]
  },
  {
   "cell_type": "code",
   "execution_count": 269,
   "metadata": {},
   "outputs": [
    {
     "data": {
      "text/plain": [
       "['USD',\n",
       " ['32.42000', '33.18000', '-', '-', '33.28000'],\n",
       " ['33.80000', '33.78000', '33.78000', '33.78000']]"
      ]
     },
     "execution_count": 269,
     "metadata": {},
     "output_type": "execute_result"
    }
   ],
   "source": [
    "krungsri_data[0]"
   ]
  },
  {
   "cell_type": "markdown",
   "metadata": {},
   "source": [
    "#"
   ]
  },
  {
   "cell_type": "code",
   "execution_count": null,
   "metadata": {},
   "outputs": [],
   "source": []
  },
  {
   "cell_type": "markdown",
   "metadata": {},
   "source": [
    "#test bank"
   ]
  },
  {
   "cell_type": "code",
   "execution_count": 270,
   "metadata": {},
   "outputs": [],
   "source": [
    "#browser = start_browser()"
   ]
  },
  {
   "cell_type": "code",
   "execution_count": 271,
   "metadata": {},
   "outputs": [],
   "source": [
    "# browser.get(website[4])\n",
    "# html = browser.page_source\n",
    "# soup = BeautifulSoup(html, features=\"html.parser\")\n",
    "# end_browser(browser)"
   ]
  },
  {
   "cell_type": "markdown",
   "metadata": {},
   "source": [
    "#test proxy"
   ]
  },
  {
   "cell_type": "code",
   "execution_count": 272,
   "metadata": {},
   "outputs": [],
   "source": [
    "# proxieszz = []\n",
    "\n",
    "# res = requests.get('https://free-proxy-list.net/', headers={'User-Agent': \"Mozilla/5.0 (Windows NT 10.0; Win64; x64) AppleWebKit/537.36 (KHTML, like Gecko) Chrome/99.0.4844.82 Safari/537.36\"})\n",
    "# soup = BeautifulSoup(res.text,\"lxml\")\n",
    "# data = soup.find(\"div\",{\"class\" : \"table-responsive fpl-list\"}).find('tbody').find_all('tr')\n",
    "# for items in data:\n",
    "#     proxy_list = items.find('td').get_text()\n",
    "#     port_list = items.find_all('td')[1].get_text()\n",
    "#     proxieszz.append(proxy_list+\":\"+port_list)"
   ]
  },
  {
   "cell_type": "code",
   "execution_count": 273,
   "metadata": {},
   "outputs": [],
   "source": [
    "# proxieszz"
   ]
  },
  {
   "cell_type": "code",
   "execution_count": 274,
   "metadata": {},
   "outputs": [],
   "source": [
    "# while True:\n",
    "#     choosenProxy = random.choice(proxieszz)\n",
    "#     proxyDict = {\n",
    "#         'http' : f'http://{choosenProxy}',\n",
    "#         'https' : f'https://{choosenProxy}'\n",
    "#     }\n",
    "#     print(\"trying with:\",proxyDict)\n",
    "#     try:\n",
    "#         response = requests.get('https://www.google.com/',proxies=proxieszz,timeout=5)\n",
    "#         print(response.status_code)\n",
    "#         break\n",
    "#     except Exception:\n",
    "#         continue"
   ]
  },
  {
   "cell_type": "code",
   "execution_count": 275,
   "metadata": {},
   "outputs": [],
   "source": [
    "# my_headers = {'User-Agent': \"Mozilla/5.0 (Windows NT 10.0; Win64; x64) AppleWebKit/537.36 (KHTML, like Gecko) Chrome/99.0.4844.82 Safari/537.36\"}\n",
    "# url = 'https://exchangerate.krungthai.com/'\n",
    "# res = requests.get(url,headers=my_headers)\n",
    "# soup = BeautifulSoup(res.text, 'html.parser')\n"
   ]
  },
  {
   "cell_type": "code",
   "execution_count": 276,
   "metadata": {},
   "outputs": [],
   "source": [
    "#soup"
   ]
  },
  {
   "cell_type": "code",
   "execution_count": null,
   "metadata": {},
   "outputs": [],
   "source": []
  },
  {
   "cell_type": "markdown",
   "metadata": {},
   "source": [
    "#get_currency"
   ]
  },
  {
   "cell_type": "code",
   "execution_count": 277,
   "metadata": {},
   "outputs": [],
   "source": [
    "def get_currency(all_bank_data):\n",
    "    currency_list = []\n",
    "    for d in all_bank_data:\n",
    "        for index,currency in enumerate(d):\n",
    "            if index >= 3 :\n",
    "                currency_list.append(currency[0])\n",
    "    return list(set([x for x in currency_list if currency_list.count(x) == len(all_bank_data)]))"
   ]
  },
  {
   "cell_type": "code",
   "execution_count": 278,
   "metadata": {},
   "outputs": [],
   "source": [
    "all_bank_data = kasi_data,scb_data,bangkok_data,krungsri_data\n"
   ]
  },
  {
   "cell_type": "code",
   "execution_count": 279,
   "metadata": {},
   "outputs": [
    {
     "data": {
      "text/plain": [
       "'USD'"
      ]
     },
     "execution_count": 279,
     "metadata": {},
     "output_type": "execute_result"
    }
   ],
   "source": [
    "all_bank_data[1][0][0]"
   ]
  },
  {
   "cell_type": "code",
   "execution_count": 280,
   "metadata": {},
   "outputs": [],
   "source": [
    "currency_list = get_currency(all_bank_data)"
   ]
  },
  {
   "cell_type": "code",
   "execution_count": 281,
   "metadata": {},
   "outputs": [
    {
     "data": {
      "text/plain": [
       "['ZAR',\n",
       " 'EUR',\n",
       " 'CNY',\n",
       " 'SAR',\n",
       " 'BHD',\n",
       " 'JPY',\n",
       " 'AED',\n",
       " 'KRW',\n",
       " 'DKK',\n",
       " 'NZD',\n",
       " 'PHP',\n",
       " 'INR',\n",
       " 'VND',\n",
       " 'HKD',\n",
       " 'SEK',\n",
       " 'TWD',\n",
       " 'BND',\n",
       " 'CHF',\n",
       " 'MYR',\n",
       " 'SGD',\n",
       " 'GBP',\n",
       " 'NOK',\n",
       " 'IDR',\n",
       " 'AUD',\n",
       " 'CAD']"
      ]
     },
     "execution_count": 281,
     "metadata": {},
     "output_type": "execute_result"
    }
   ],
   "source": [
    "currency_list"
   ]
  },
  {
   "cell_type": "markdown",
   "metadata": {},
   "source": [
    "#pack data to csv file"
   ]
  },
  {
   "cell_type": "code",
   "execution_count": 282,
   "metadata": {},
   "outputs": [],
   "source": [
    "\n",
    "#result = pd.concat([bank,result], axis=1, join='inner',levels=2)\n",
    "#{'ราคาซื้อ':['ธนบัตร','เช็คเดินทาง','ตั๋วแลกเงิน&ดราฟ','โอนเงินทางโทรเลข/โอนเงิน']}\n",
    "#df[['ราคาที่ธนาคารรับซื้อ']] = pd.DataFrame()#pd.DataFrame(columns=buy_rate)\n",
    "\n",
    "for currency in currency_list:\n",
    "    ##########\n",
    "    bank_name = {0 : 'ธนาคารกสิกรไทย',1 : 'ธนาคารไทยพาณิชย์',2 : 'ธนาคารกรุงเทพ',3 : 'ธนาคารกรุงศรีอยุธยา'}\n",
    "\n",
    "    bank = pd.DataFrame()\n",
    "    bank = bank.reindex(columns=['ธนาคาร'])\n",
    "    #bank.columns = pd.MultiIndex.from_product(bank.columns])\n",
    "\n",
    "    buy_rate = ['ธนบัตร', 'ตั๋วเงิน', 'เช็คเดินทาง','ตั๋วแลกเงิน&ดราฟ','โอนเงินทางโทรเลข/โอนเงิน']\n",
    "    br = pd.DataFrame()\n",
    "    br = br.reindex(columns=buy_rate)\n",
    "    br.columns = pd.MultiIndex.from_product([[\"ราคาที่ธนาคารรับซื้อ\"], br.columns])\n",
    "\n",
    "    sell_rate = ['ธนบัตร', 'เช็คเดินทาง', 'ตั๋วแลกเงิน&ดราฟ','โอนเงินทางโทรเลข/โอนเงิน']\n",
    "    sr = pd.DataFrame()\n",
    "    sr = sr.reindex(columns=sell_rate)\n",
    "    sr.columns = pd.MultiIndex.from_product([[\"ราคาที่ธนาคารขาย\"], sr.columns])\n",
    "\n",
    "    result = pd.concat([br,sr], axis=1, join='inner')\n",
    "    result = pd.concat([bank,result], axis=1, join='inner')##########################\n",
    "    \n",
    "\n",
    "    for index,bank in enumerate(all_bank_data):\n",
    "        data_list = []       \n",
    "        for currency_data in bank:\n",
    "            if currency_data[0] == currency:\n",
    "                data_list = [bank_name[index]]+currency_data[1]+currency_data[2]\n",
    "                break\n",
    "        result.loc[len(result)] = data_list\n",
    "\n",
    "\n",
    "    result.to_csv('bank_buy_sell_rate/'+str(currency)+'.csv',index=False)"
   ]
  },
  {
   "cell_type": "code",
   "execution_count": 283,
   "metadata": {},
   "outputs": [
    {
     "data": {
      "text/html": [
       "<div>\n",
       "<style scoped>\n",
       "    .dataframe tbody tr th:only-of-type {\n",
       "        vertical-align: middle;\n",
       "    }\n",
       "\n",
       "    .dataframe tbody tr th {\n",
       "        vertical-align: top;\n",
       "    }\n",
       "\n",
       "    .dataframe thead th {\n",
       "        text-align: right;\n",
       "    }\n",
       "</style>\n",
       "<table border=\"1\" class=\"dataframe\">\n",
       "  <thead>\n",
       "    <tr style=\"text-align: right;\">\n",
       "      <th></th>\n",
       "      <th>ธนาคาร</th>\n",
       "      <th>(ราคาที่ธนาคารรับซื้อ, ธนบัตร)</th>\n",
       "      <th>(ราคาที่ธนาคารรับซื้อ, ตั๋วเงิน)</th>\n",
       "      <th>(ราคาที่ธนาคารรับซื้อ, เช็คเดินทาง)</th>\n",
       "      <th>(ราคาที่ธนาคารรับซื้อ, ตั๋วแลกเงิน&amp;ดราฟ)</th>\n",
       "      <th>(ราคาที่ธนาคารรับซื้อ, โอนเงินทางโทรเลข/โอนเงิน)</th>\n",
       "      <th>(ราคาที่ธนาคารขาย, ธนบัตร)</th>\n",
       "      <th>(ราคาที่ธนาคารขาย, เช็คเดินทาง)</th>\n",
       "      <th>(ราคาที่ธนาคารขาย, ตั๋วแลกเงิน&amp;ดราฟ)</th>\n",
       "      <th>(ราคาที่ธนาคารขาย, โอนเงินทางโทรเลข/โอนเงิน)</th>\n",
       "    </tr>\n",
       "  </thead>\n",
       "  <tbody>\n",
       "    <tr>\n",
       "      <th>0</th>\n",
       "      <td>ธนาคารกสิกรไทย</td>\n",
       "      <td>26.01914</td>\n",
       "      <td>26.36318</td>\n",
       "      <td>26.36318</td>\n",
       "      <td>-</td>\n",
       "      <td>26.43796</td>\n",
       "      <td>27.15326</td>\n",
       "      <td>27.01897</td>\n",
       "      <td>27.01897</td>\n",
       "      <td>27.01897</td>\n",
       "    </tr>\n",
       "    <tr>\n",
       "      <th>1</th>\n",
       "      <td>ธนาคารไทยพาณิชย์</td>\n",
       "      <td>25.88125</td>\n",
       "      <td>26.3025</td>\n",
       "      <td>26.2225</td>\n",
       "      <td>-</td>\n",
       "      <td>26.4325</td>\n",
       "      <td>27.1525</td>\n",
       "      <td>27.08875</td>\n",
       "      <td>27.08875</td>\n",
       "      <td>-</td>\n",
       "    </tr>\n",
       "    <tr>\n",
       "      <th>2</th>\n",
       "      <td>ธนาคารกรุงเทพ</td>\n",
       "      <td>26.07</td>\n",
       "      <td>-</td>\n",
       "      <td>-</td>\n",
       "      <td>26.34000</td>\n",
       "      <td>26.40000</td>\n",
       "      <td>27.24</td>\n",
       "      <td>-</td>\n",
       "      <td>27.13500</td>\n",
       "      <td>27.13500</td>\n",
       "    </tr>\n",
       "    <tr>\n",
       "      <th>3</th>\n",
       "      <td>ธนาคารกรุงศรีอยุธยา</td>\n",
       "      <td>26.07000</td>\n",
       "      <td>26.31512</td>\n",
       "      <td>-</td>\n",
       "      <td>-</td>\n",
       "      <td>26.41512</td>\n",
       "      <td>27.13000</td>\n",
       "      <td>27.11512</td>\n",
       "      <td>27.11512</td>\n",
       "      <td>27.11512</td>\n",
       "    </tr>\n",
       "  </tbody>\n",
       "</table>\n",
       "</div>"
      ],
      "text/plain": [
       "                ธนาคาร (ราคาที่ธนาคารรับซื้อ, ธนบัตร)  \\\n",
       "0       ธนาคารกสิกรไทย                       26.01914   \n",
       "1     ธนาคารไทยพาณิชย์                       25.88125   \n",
       "2        ธนาคารกรุงเทพ                          26.07   \n",
       "3  ธนาคารกรุงศรีอยุธยา                       26.07000   \n",
       "\n",
       "  (ราคาที่ธนาคารรับซื้อ, ตั๋วเงิน) (ราคาที่ธนาคารรับซื้อ, เช็คเดินทาง)  \\\n",
       "0                         26.36318                            26.36318   \n",
       "1                          26.3025                             26.2225   \n",
       "2                                -                                   -   \n",
       "3                         26.31512                                   -   \n",
       "\n",
       "  (ราคาที่ธนาคารรับซื้อ, ตั๋วแลกเงิน&ดราฟ)  \\\n",
       "0                                        -   \n",
       "1                                        -   \n",
       "2                                 26.34000   \n",
       "3                                        -   \n",
       "\n",
       "  (ราคาที่ธนาคารรับซื้อ, โอนเงินทางโทรเลข/โอนเงิน) (ราคาที่ธนาคารขาย, ธนบัตร)  \\\n",
       "0                                         26.43796                   27.15326   \n",
       "1                                          26.4325                    27.1525   \n",
       "2                                         26.40000                      27.24   \n",
       "3                                         26.41512                   27.13000   \n",
       "\n",
       "  (ราคาที่ธนาคารขาย, เช็คเดินทาง) (ราคาที่ธนาคารขาย, ตั๋วแลกเงิน&ดราฟ)  \\\n",
       "0                        27.01897                             27.01897   \n",
       "1                        27.08875                             27.08875   \n",
       "2                               -                             27.13500   \n",
       "3                        27.11512                             27.11512   \n",
       "\n",
       "  (ราคาที่ธนาคารขาย, โอนเงินทางโทรเลข/โอนเงิน)  \n",
       "0                                     27.01897  \n",
       "1                                            -  \n",
       "2                                     27.13500  \n",
       "3                                     27.11512  "
      ]
     },
     "execution_count": 283,
     "metadata": {},
     "output_type": "execute_result"
    }
   ],
   "source": [
    "result"
   ]
  },
  {
   "cell_type": "code",
   "execution_count": 284,
   "metadata": {},
   "outputs": [],
   "source": [
    "# buy_rate = ['ธนบัตร', 'ตั๋วเงิน', 'เช็คเดินทาง','ตั๋วแลกเงิน&ดราฟ','โอนเงินทางโทรเลข/โอนเงิน']\n",
    "# br = pd.DataFrame()\n",
    "# br = br.reindex(columns = buy_rate)"
   ]
  },
  {
   "cell_type": "code",
   "execution_count": 285,
   "metadata": {},
   "outputs": [],
   "source": [
    "# sell_rate = ['ธนบัตร', 'เช็คเดินทาง', 'ตั๋วแลกเงิน&ดราฟ','โอนเงินทางโทรเลข/โอนเงิน']\n",
    "# sr = pd.DataFrame()\n",
    "# sr = sr.reindex(columns = sell_rate)"
   ]
  },
  {
   "cell_type": "code",
   "execution_count": 286,
   "metadata": {},
   "outputs": [],
   "source": [
    "# br"
   ]
  },
  {
   "cell_type": "code",
   "execution_count": 287,
   "metadata": {},
   "outputs": [],
   "source": [
    "# sr"
   ]
  },
  {
   "cell_type": "code",
   "execution_count": 288,
   "metadata": {},
   "outputs": [],
   "source": [
    "# for i,d in enumerate(kasi_data):\n",
    "#     #print(d[0]+d[1])\n",
    "#     dd = d[1]\n",
    "#     br.loc[len(br)] = dd"
   ]
  },
  {
   "cell_type": "code",
   "execution_count": 289,
   "metadata": {},
   "outputs": [],
   "source": [
    "# br"
   ]
  },
  {
   "cell_type": "code",
   "execution_count": 290,
   "metadata": {},
   "outputs": [],
   "source": [
    "#df.to_csv('thb-usd.csv',index=False)"
   ]
  },
  {
   "cell_type": "code",
   "execution_count": null,
   "metadata": {},
   "outputs": [],
   "source": []
  },
  {
   "cell_type": "code",
   "execution_count": 291,
   "metadata": {},
   "outputs": [],
   "source": [
    "# f = open('text.txt', 'w')\n",
    "# with open('text.txt', 'w',encoding='utf-8') as f:\n",
    "#     f.write(str(soup))"
   ]
  },
  {
   "cell_type": "code",
   "execution_count": 292,
   "metadata": {},
   "outputs": [],
   "source": [
    "#soup"
   ]
  }
 ],
 "metadata": {
  "interpreter": {
   "hash": "69eb92836b941e979072a76c7fcfffe5419cca933cedd02cfafbdfca1a93358c"
  },
  "kernelspec": {
   "display_name": "Python 3.9.10 64-bit",
   "language": "python",
   "name": "python3"
  },
  "language_info": {
   "codemirror_mode": {
    "name": "ipython",
    "version": 3
   },
   "file_extension": ".py",
   "mimetype": "text/x-python",
   "name": "python",
   "nbconvert_exporter": "python",
   "pygments_lexer": "ipython3",
   "version": "3.9.11"
  },
  "orig_nbformat": 4
 },
 "nbformat": 4,
 "nbformat_minor": 2
}
