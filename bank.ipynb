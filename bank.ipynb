{
 "cells": [
  {
   "cell_type": "code",
   "execution_count": 39,
   "metadata": {},
   "outputs": [],
   "source": [
    "from bs4 import BeautifulSoup, Comment\n",
    "import requests\n",
    "import regex as re\n",
    "import xml\n",
    "from selenium import webdriver\n",
    "import pandas as pd"
   ]
  },
  {
   "cell_type": "code",
   "execution_count": 40,
   "metadata": {},
   "outputs": [],
   "source": [
    "website = [\"https://www.kasikornbank.com/en/rate/pages/foreign-exchange.aspx\",\n",
    "\"https://www.scb.co.th/th/personal-banking/foreign-exchange-rates.html\",\n",
    "\"https://www.bangkokbank.com/th-TH/Personal/Other-Services/View-Rates/Foreign-Exchange-Rates\",\n",
    "\"https://exchangerate.krungthai.com/\",\n",
    "\"https://www.krungsri.com/th/exchangerate/Todayrates\"]\n",
    "#ธนาคารซื้อ #ธนาคารขาย"
   ]
  },
  {
   "cell_type": "markdown",
   "metadata": {},
   "source": [
    "#Remove HTML T A G S by regex |||||||||| Actually, use get_text() Function. It's much easier. =,,="
   ]
  },
  {
   "cell_type": "code",
   "execution_count": 41,
   "metadata": {},
   "outputs": [],
   "source": [
    "def remove_tag(html_str):\n",
    "    TAG_RE = re.compile(r'<[^>]+>')\n",
    "    text = TAG_RE.sub('!@', html_str)\n",
    "    mylist = re.split(r'!@', text)\n",
    "    clear_lst = []\n",
    "    for clear_text in mylist:\n",
    "        if (clear_text not in \"\\n\") and (clear_text not in \" \") and (clear_text not in \"\"):\n",
    "            clear_lst.append(clear_text)\n",
    "    return clear_lst\n",
    "#https://www.guru99.com/python-regular-expressions-complete-tutorial.html"
   ]
  },
  {
   "cell_type": "markdown",
   "metadata": {},
   "source": [
    "#start browser"
   ]
  },
  {
   "cell_type": "code",
   "execution_count": 42,
   "metadata": {},
   "outputs": [],
   "source": [
    "def start_browser():\n",
    "    options = webdriver.ChromeOptions()\n",
    "    options.add_argument('--headless')\n",
    "    # executable_path param is not needed if you updated PATH\n",
    "    browser = webdriver.Chrome(options=options, executable_path='99.0.4844.51/chromedriver_win32/chromedriver.exe')\n",
    "    return browser\n",
    "\n",
    "def end_browser(browser):\n",
    "    browser.quit()\n"
   ]
  },
  {
   "cell_type": "markdown",
   "metadata": {},
   "source": [
    "#bank"
   ]
  },
  {
   "cell_type": "code",
   "execution_count": 43,
   "metadata": {},
   "outputs": [],
   "source": [
    "def kasikorn(url): #33\n",
    "    browser = start_browser()\n",
    "    browser.get(url)\n",
    "    html = browser.page_source\n",
    "    soup = BeautifulSoup(html, features=\"html.parser\")\n",
    "    end_browser(browser)\n",
    "\n",
    "    #clean soup data\n",
    "    data = soup.find('div',{\"id\" : \"divTableRate\"}).find('tbody').find_all('tr')\n",
    "    lst_rows = []\n",
    "    for index,value in enumerate(data):\n",
    "        if index%2==0:\n",
    "            lst = remove_tag(str(value))\n",
    "            lst2 = lst[2:]\n",
    "            lst_buy = [lst2[3],lst2[1],lst2[0],\"-\",lst2[2]]\n",
    "            lst_sell = [lst2[5],lst2[4],lst2[4],lst2[4]]\n",
    "            lst_rows.append([lst[0].replace(\" \",\"\"),lst_buy,lst_sell])\n",
    "    \n",
    "    return lst_rows"
   ]
  },
  {
   "cell_type": "code",
   "execution_count": 44,
   "metadata": {},
   "outputs": [],
   "source": [
    "def scb(url): #29\n",
    "    browser = start_browser()\n",
    "    browser.get(url)\n",
    "    html = browser.page_source\n",
    "    soup = BeautifulSoup(html, features=\"html.parser\")\n",
    "    end_browser(browser)\n",
    "    \n",
    "    #clean soup data\n",
    "    data = soup.find('div',{\"class\" : \"exchange-rate\"}).find('tbody').find_all('tr')\n",
    "    data = data[2:]\n",
    "    lst_rows = []\n",
    "    for index,value in enumerate(data):\n",
    "        lst = remove_tag(str(value))\n",
    "        lst2 = lst[2:]\n",
    "        lst_buy = [lst2[5],lst2[3],lst2[4],\"-\",lst2[2]]\n",
    "        lst_sell = [lst2[1],lst2[0],lst2[0],\"-\"]\n",
    "        lst_rows.append([lst[0],lst_buy,lst_sell])\n",
    "    return lst_rows\n",
    "    "
   ]
  },
  {
   "cell_type": "code",
   "execution_count": 45,
   "metadata": {},
   "outputs": [],
   "source": [
    "def bangkok(url):\n",
    "    browser = start_browser()\n",
    "    browser.get(url)\n",
    "    html = browser.page_source\n",
    "    soup = BeautifulSoup(html, features=\"html.parser\")\n",
    "    end_browser(browser)\n",
    "\n",
    "    #clean soup data\n",
    "    data = soup.find('table',{\"class\" : \"table-primary table-foreign-exchange-rates blue\"}).find('tbody').find_all('tr')\n",
    "    lst_rows = []\n",
    "    for index,value in enumerate(data):\n",
    "        clear_lst = remove_tag(str(value))\n",
    "        clear_lst = [x.replace(\" \", \"\") for x in clear_lst]\n",
    "        while(len(clear_lst) < 7):\n",
    "            clear_lst.append('-')\n",
    "        lst2 = clear_lst[2:]\n",
    "        lst_buy = [lst2[0],'-','-',lst2[2],lst2[3]]\n",
    "        lst_sell = [lst2[1],\"-\",lst2[4],lst2[4]]\n",
    "        lst_rows.append([clear_lst[0],lst_buy,lst_sell])\n",
    "    return lst_rows"
   ]
  },
  {
   "cell_type": "code",
   "execution_count": 191,
   "metadata": {},
   "outputs": [],
   "source": [
    "def krungthai(url):\n",
    "    browser = start_browser()\n",
    "    browser.get(url)\n",
    "    html = browser.page_source\n",
    "    soup = BeautifulSoup(html, features=\"html.parser\")\n",
    "    end_browser(browser)\n",
    "\n",
    "    #clean soup data\n",
    "    data = soup.find('table',{\"id\" : \"cur-table-1\"}).find('tbody').find_all('tr',{\"class\" : \"ng-scope\"})\n",
    "    lst_rows = []\n",
    "    for index,value in enumerate(data):\n",
    "        if index != 8 :\n",
    "            clear_lst = remove_tag(str(value))\n",
    "            clear_lst = [x.replace(\" \", \"\") for x in clear_lst]\n",
    "            clear_lst = [x.replace(\"Unq\", \"-\") for x in clear_lst]\n",
    "            lst2 = clear_lst[2:]\n",
    "            lst_buy = [lst2[3],lst2[0],'-','-',lst2[1]]\n",
    "            lst_sell = [lst2[4],lst2[2],'-','-']\n",
    "            lst_rows.append([clear_lst[0],lst_buy,lst_sell])\n",
    "    return lst_rows"
   ]
  },
  {
   "cell_type": "code",
   "execution_count": 192,
   "metadata": {},
   "outputs": [],
   "source": [
    "def krungsri(url):\n",
    "    browser = start_browser()\n",
    "    browser.get(url)\n",
    "    html = browser.page_source\n",
    "    soup = BeautifulSoup(html, features=\"html.parser\")\n",
    "    end_browser(browser)\n",
    "\n",
    "    #clen soup data\n",
    "    data = soup.find('div',{\"class\" : \"table-scroll\"}).find('tbody').find_all('tr')\n",
    "    lst_rows = []\n",
    "    for index,value in enumerate(data):\n",
    "        lst = remove_tag(str(value))\n",
    "        remove = re.compile(r'\\s|\\xa0|\\*')\n",
    "        lst = [remove.sub('', x) for x in lst]\n",
    "        lst = [x.replace(\"UNQ.\", \"-\") for x in lst]\n",
    "        lst2 = lst[-5:]\n",
    "        lst_buy = [lst2[0],lst2[2],'-','-',lst2[3]]\n",
    "        lst_sell = [lst2[1],lst2[4],lst2[4],lst2[4]]\n",
    "        lst_rows.append([lst[1],lst_buy,lst_sell])\n",
    "    return lst_rows"
   ]
  },
  {
   "cell_type": "markdown",
   "metadata": {},
   "source": [
    "#start browser"
   ]
  },
  {
   "cell_type": "code",
   "execution_count": 46,
   "metadata": {},
   "outputs": [
    {
     "name": "stderr",
     "output_type": "stream",
     "text": [
      "C:\\Users\\Administrator\\AppData\\Local\\Temp\\ipykernel_12516\\1252230772.py:5: DeprecationWarning: executable_path has been deprecated, please pass in a Service object\n",
      "  browser = webdriver.Chrome(options=options, executable_path='99.0.4844.51/chromedriver_win32/chromedriver.exe')\n"
     ]
    }
   ],
   "source": [
    "kasi_data = kasikorn(website[0])"
   ]
  },
  {
   "cell_type": "code",
   "execution_count": 47,
   "metadata": {},
   "outputs": [
    {
     "name": "stderr",
     "output_type": "stream",
     "text": [
      "C:\\Users\\Administrator\\AppData\\Local\\Temp\\ipykernel_12516\\1252230772.py:5: DeprecationWarning: executable_path has been deprecated, please pass in a Service object\n",
      "  browser = webdriver.Chrome(options=options, executable_path='99.0.4844.51/chromedriver_win32/chromedriver.exe')\n"
     ]
    }
   ],
   "source": [
    "scb_data = scb(website[1])"
   ]
  },
  {
   "cell_type": "code",
   "execution_count": 48,
   "metadata": {},
   "outputs": [
    {
     "name": "stderr",
     "output_type": "stream",
     "text": [
      "C:\\Users\\Administrator\\AppData\\Local\\Temp\\ipykernel_12516\\1252230772.py:5: DeprecationWarning: executable_path has been deprecated, please pass in a Service object\n",
      "  browser = webdriver.Chrome(options=options, executable_path='99.0.4844.51/chromedriver_win32/chromedriver.exe')\n"
     ]
    }
   ],
   "source": [
    "bangkok_data = bangkok(website[2])"
   ]
  },
  {
   "cell_type": "code",
   "execution_count": 193,
   "metadata": {},
   "outputs": [
    {
     "name": "stderr",
     "output_type": "stream",
     "text": [
      "C:\\Users\\Administrator\\AppData\\Local\\Temp\\ipykernel_12516\\1252230772.py:5: DeprecationWarning: executable_path has been deprecated, please pass in a Service object\n",
      "  browser = webdriver.Chrome(options=options, executable_path='99.0.4844.51/chromedriver_win32/chromedriver.exe')\n"
     ]
    }
   ],
   "source": [
    "krungthai_data = krungthai(website[3])"
   ]
  },
  {
   "cell_type": "code",
   "execution_count": 194,
   "metadata": {},
   "outputs": [
    {
     "name": "stderr",
     "output_type": "stream",
     "text": [
      "C:\\Users\\Administrator\\AppData\\Local\\Temp\\ipykernel_12516\\1252230772.py:5: DeprecationWarning: executable_path has been deprecated, please pass in a Service object\n",
      "  browser = webdriver.Chrome(options=options, executable_path='99.0.4844.51/chromedriver_win32/chromedriver.exe')\n"
     ]
    }
   ],
   "source": [
    "krungsri_data = krungsri(website[4])"
   ]
  },
  {
   "cell_type": "code",
   "execution_count": 186,
   "metadata": {},
   "outputs": [
    {
     "data": {
      "text/plain": [
       "[['USD1',\n",
       "  ['32.4613', '33.37', '33.37', '-', '33.47'],\n",
       "  ['33.81', '33.77', '33.77', '33.77']],\n",
       " ['USD5-20',\n",
       "  ['32.72386', '33.37', '33.37', '-', '33.47'],\n",
       "  ['33.86', '33.77', '33.77', '33.77']],\n",
       " ['USD50-100',\n",
       "  ['33.21616', '33.37', '33.37', '-', '33.47'],\n",
       "  ['33.886', '33.77', '33.77', '33.77']],\n",
       " ['AED',\n",
       "  ['7.74648', '-', '-', '-', '8.75238'],\n",
       "  ['9.63057', '9.5787', '9.5787', '9.5787']],\n",
       " ['AUD',\n",
       "  ['24.39612', '24.54518', '24.54518', '-', '24.62485'],\n",
       "  ['25.73309', '25.59358', '25.59358', '25.59358']],\n",
       " ['BHD', ['74.0825', '-', '-', '-', '-'], ['94.52125', '-', '-', '-']],\n",
       " ['BND',\n",
       "  ['23.71073', '24.29833', '-', '-', '24.38833'],\n",
       "  ['24.96974', '25.15787', '25.15787', '25.15787']],\n",
       " ['CAD',\n",
       "  ['26.00297', '26.34701', '26.34701', '-', '26.42179'],\n",
       "  ['27.14338', '27.00909', '27.00909', '27.00909']],\n",
       " ['CHF',\n",
       "  ['35.17638', '35.55819', '35.55819', '-', '35.66605'],\n",
       "  ['36.42569', '36.34893', '36.34893', '36.34893']],\n",
       " ['CNY',\n",
       "  ['4.91749', '5.16553', '-', '-', '5.21429'],\n",
       "  ['5.41591', '5.35491', '5.35491', '5.35491']],\n",
       " ['DKK',\n",
       "  ['4.70638', '4.89931', '4.89931', '-', '4.92236'],\n",
       "  ['5.03991', '5.00598', '5.00598', '5.00598']],\n",
       " ['EUR',\n",
       "  ['36.24931', '36.44644', '36.44644', '-', '36.53997'],\n",
       "  ['37.3531', '37.27388', '37.27388', '37.27388']],\n",
       " ['GBP',\n",
       "  ['43.45118', '43.78899', '43.78899', '-', '43.93356'],\n",
       "  ['45.05155', '44.79277', '44.79277', '44.79277']],\n",
       " ['HKD',\n",
       "  ['4.18659', '4.24574', '4.24574', '-', '4.25834'],\n",
       "  ['4.38654', '4.33461', '4.33461', '4.33461']],\n",
       " ['IDR',\n",
       "  ['0.00198', '-', '-', '-', '0.00225'],\n",
       "  ['0.00258', '0.00244', '0.00244', '0.00244']],\n",
       " ['INR',\n",
       "  ['0.30165', '-', '-', '-', '-'],\n",
       "  ['0.47123', '0.45083', '0.45083', '0.45083']],\n",
       " ['JPY',\n",
       "  ['0.27057', '0.27201', '0.27201', '-', '0.27295'],\n",
       "  ['0.28166', '0.28084', '0.28084', '0.28084']],\n",
       " ['KHR',\n",
       "  ['-', '0.00814', '-', '-', '0.00817'],\n",
       "  ['-', '0.00845', '0.00845', '0.00845']],\n",
       " ['KRW',\n",
       "  ['0.02429', '-', '-', '-', '-'],\n",
       "  ['0.02758', '0.03002', '0.03002', '0.03002']],\n",
       " ['LAK', ['-', '-', '-', '-', '-'], ['-', '0.00313', '0.00313', '0.00313']],\n",
       " ['MMK', ['-', '-', '-', '-', '-'], ['-', '-', '-', '-']],\n",
       " ['MYR',\n",
       "  ['7.30401', '7.82634', '-', '-', '7.85634'],\n",
       "  ['8.04645', '8.04677', '8.04677', '8.04677']],\n",
       " ['NOK',\n",
       "  ['3.6809', '3.8174', '3.8174', '-', '3.8299'],\n",
       "  ['3.96979', '3.91112', '3.91112', '3.91112']],\n",
       " ['NZD',\n",
       "  ['22.84357', '23.04174', '23.04174', '-', '23.10549'],\n",
       "  ['23.99584', '23.65383', '23.65383', '23.65383']],\n",
       " ['PHP',\n",
       "  ['0.51532', '-', '-', '-', '-'],\n",
       "  ['0.65162', '0.65562', '0.65562', '0.65562']],\n",
       " ['QAR', ['-', '-', '-', '-', '-'], ['-', '-', '-', '-']],\n",
       " ['RUB', ['-', '-', '-', '-', '-'], ['-', '-', '-', '-']],\n",
       " ['SAR', ['7.41148', '-', '-', '-', '-'], ['9.44673', '-', '-', '-']],\n",
       " ['SEK',\n",
       "  ['3.37673', '3.50262', '3.50262', '-', '3.52512'],\n",
       "  ['3.63012', '3.58348', '3.58348', '3.58348']],\n",
       " ['SGD',\n",
       "  ['24.26448', '24.39708', '24.39708', '-', '24.46708'],\n",
       "  ['25.21049', '25.07883', '25.07883', '25.07883']],\n",
       " ['TWD', ['1.02175', '-', '-', '-', '-'], ['1.17587', '-', '-', '-']],\n",
       " ['VND',\n",
       "  ['0.00113', '-', '-', '-', '-'],\n",
       "  ['0.00166', '0.0018', '0.0018', '0.0018']],\n",
       " ['ZAR', ['1.78882', '-', '-', '-', '-'], ['2.4725', '-', '-', '-']]]"
      ]
     },
     "execution_count": 186,
     "metadata": {},
     "output_type": "execute_result"
    }
   ],
   "source": [
    "kasi_data"
   ]
  },
  {
   "cell_type": "code",
   "execution_count": 187,
   "metadata": {},
   "outputs": [
    {
     "data": {
      "text/plain": [
       "[['USD',\n",
       "  ['33.24', '33.39', '33.29', '-', '33.49'],\n",
       "  ['33.94', '33.79', '33.79', '-']],\n",
       " ['USD1',\n",
       "  ['32.76', '33.39', '33.29', '-', '33.49'],\n",
       "  ['33.87', '33.79', '33.79', '-']],\n",
       " ['USD2',\n",
       "  ['32.4', '33.39', '33.29', '-', '33.49'],\n",
       "  ['33.85', '33.79', '33.79', '-']],\n",
       " ['EUR',\n",
       "  ['36.30125', '36.49375', '36.36375', '-', '36.58375'],\n",
       "  ['37.3775', '37.30625', '37.30625', '-']],\n",
       " ['GBP',\n",
       "  ['43.47125', '43.69625', '43.54625', '-', '43.94625'],\n",
       "  ['45.13625', '44.81375', '44.81375', '-']],\n",
       " ['JPY',\n",
       "  ['27.07', '27.21', '27.11', '-', '27.33'],\n",
       "  ['28.14', '28.115', '28.115', '-']],\n",
       " ['SGD',\n",
       "  ['24.27625', '24.3875', '24.3175', '-', '24.4775'],\n",
       "  ['25.215', '25.10375', '25.10375', '-']],\n",
       " ['HKD',\n",
       "  ['4.1625', '4.22125', '4.19125', '-', '4.25125'],\n",
       "  ['4.4275', '4.35625', '4.35625', '-']],\n",
       " ['KRW', ['0.023', '-', '-', '-', '-'], ['0.028', '-', '-', '-']],\n",
       " ['CHF',\n",
       "  ['35.14875', '35.61', '35.52', '-', '35.71'],\n",
       "  ['36.53125', '36.45625', '36.45625', '-']],\n",
       " ['AUD',\n",
       "  ['24.47875', '24.56625', '24.49625', '-', '24.66625'],\n",
       "  ['25.8525', '25.65375', '25.65375', '-']],\n",
       " ['MYR',\n",
       "  ['7.27', '7.79125', '7.74125', '-', '7.84125'],\n",
       "  ['8.09', '8.05875', '8.05875', '-']],\n",
       " ['ZAR', ['-', '-', '-', '-', '-'], ['2.4', '-', '-', '-']],\n",
       " ['SEK',\n",
       "  ['3.375', '3.47375', '3.45375', '-', '3.52375'],\n",
       "  ['3.62375', '3.58875', '3.58875', '-']],\n",
       " ['CAD',\n",
       "  ['25.88125', '26.3025', '26.2225', '-', '26.4325'],\n",
       "  ['27.1625', '27.09875', '27.09875', '-']],\n",
       " ['DKK',\n",
       "  ['4.71', '4.895', '4.87', '-', '4.925'],\n",
       "  ['5.045', '5.00625', '5.00625', '-']],\n",
       " ['NOK',\n",
       "  ['3.65', '3.81', '3.79', '-', '3.83'],\n",
       "  ['3.94875', '3.91125', '3.91125', '-']],\n",
       " ['NZD',\n",
       "  ['22.88125', '22.90125', '22.84125', '-', '23.02125'],\n",
       "  ['24.0675', '23.7725', '23.7725', '-']],\n",
       " ['INR', ['-', '-', '-', '-', '-'], ['-', '0.476', '0.476', '-']],\n",
       " ['CNY',\n",
       "  ['4.8675', '5.145', '5.145', '-', '5.19'],\n",
       "  ['5.438', '5.38375', '5.38375', '-']],\n",
       " ['PHP', ['0.5', '-', '-', '-', '-'], ['0.7', '-', '-', '-']],\n",
       " ['TWD', ['1.0', '-', '-', '-', '-'], ['1.16', '-', '-', '-']],\n",
       " ['BHD', ['72.77', '-', '-', '-', '-'], ['97.9', '-', '-', '-']],\n",
       " ['SAR', ['7.4', '-', '-', '-', '-'], ['9.72', '-', '-', '-']],\n",
       " ['IDR',\n",
       "  ['0.002', '0.00208', '0.00208', '-', '0.00219'],\n",
       "  ['0.0028', '0.00251', '0.00251', '-']],\n",
       " ['AED', ['7.8', '-', '-', '-', '-'], ['9.99', '-', '-', '-']],\n",
       " ['OMR', ['71.9', '-', '-', '-', '-'], ['96.15', '-', '-', '-']],\n",
       " ['BND', ['23.65', '-', '-', '-', '-'], ['24.82', '-', '-', '-']],\n",
       " ['VND', ['0.001', '-', '-', '-', '-'], ['0.0018', '0.00179', '0.00179', '-']]]"
      ]
     },
     "execution_count": 187,
     "metadata": {},
     "output_type": "execute_result"
    }
   ],
   "source": [
    "scb_data"
   ]
  },
  {
   "cell_type": "code",
   "execution_count": 188,
   "metadata": {},
   "outputs": [
    {
     "data": {
      "text/plain": [
       "[['USD1', ['32.30', '-', '-', '-', '-'], ['33.84', '-', '-', '-']],\n",
       " ['USD5', ['32.65', '-', '-', '-', '-'], ['33.84', '-', '-', '-']],\n",
       " ['USD50',\n",
       "  ['33.12', '-', '-', '33.34', '33.44'],\n",
       "  ['33.84', '-', '33.74', '33.74']],\n",
       " ['GBP',\n",
       "  ['43.39', '-', '-', '43.75750', '43.87250'],\n",
       "  ['44.58', '-', '44.77500', '44.77500']],\n",
       " ['EUR',\n",
       "  ['36.24', '-', '-', '36.44500', '36.53250'],\n",
       "  ['37.22', '-', '37.26750', '37.26750']],\n",
       " ['JPY',\n",
       "  ['27.11', '-', '-', '27.33000', '27.39500'],\n",
       "  ['27.88', '-', '28.06000', '28.06000']],\n",
       " ['HKD',\n",
       "  ['4.19', '-', '-', '4.23750', '4.25250'],\n",
       "  ['4.34', '-', '4.33250', '4.33250']],\n",
       " ['MYR',\n",
       "  ['7.32', '-', '-', '7.82000', '7.85750'],\n",
       "  ['8.06', '-', '8.06000', '8.06000']],\n",
       " ['SGD',\n",
       "  ['24.19', '-', '-', '24.35250', '24.42000'],\n",
       "  ['25.09', '-', '25.08750', '25.08750']],\n",
       " ['BND', ['23.68', '-', '-', '-', '-'], ['24.89', '-', '-', '-']],\n",
       " ['CNY',\n",
       "  ['4.95', '-', '-', '5.13750', '5.18000'],\n",
       "  ['5.35', '-', '5.35250', '5.35250']],\n",
       " ['IDR',\n",
       "  ['2.01', '-', '-', '2.25000', '2.28000'],\n",
       "  ['2.40', '-', '2.39250', '2.39250']],\n",
       " ['MMK', ['-', '-', '-', '-', '-'], ['-', '-', '-', '-']],\n",
       " ['INR', ['-', '-', '-', '-', '-'], ['-', '-', '0.45500', '0.45500']],\n",
       " ['KRW', ['0.0235', '-', '-', '-', '-'], ['0.0269', '-', '-', '-']],\n",
       " ['LAK', ['2.71', '-', '-', '-', '-'], ['2.94', '-', '-', '-']],\n",
       " ['PHP', ['0.52', '-', '-', '-', '-'], ['0.65', '-', '0.65500', '0.65500']],\n",
       " ['TWD', ['1.01', '-', '-', '-', '-'], ['1.14', '-', '-', '-']],\n",
       " ['AUD',\n",
       "  ['24.20', '-', '-', '24.52000', '24.59500'],\n",
       "  ['25.56', '-', '25.61000', '25.61000']],\n",
       " ['NZD',\n",
       "  ['22.84', '-', '-', '22.95750', '23.03250'],\n",
       "  ['23.72', '-', '23.67750', '23.67750']],\n",
       " ['CHF',\n",
       "  ['35.12', '-', '-', '35.61250', '35.72500'],\n",
       "  ['36.18', '-', '36.45750', '36.45750']],\n",
       " ['DKK',\n",
       "  ['4.72', '-', '-', '4.90750', '4.92250'],\n",
       "  ['5.03', '-', '5.00750', '5.00750']],\n",
       " ['NOK',\n",
       "  ['3.67', '-', '-', '3.80750', '3.82000'],\n",
       "  ['3.93', '-', '3.90250', '3.90250']],\n",
       " ['SEK',\n",
       "  ['3.38', '-', '-', '3.51250', '3.52250'],\n",
       "  ['3.61', '-', '3.58750', '3.58750']],\n",
       " ['CAD',\n",
       "  ['26.02', '-', '-', '26.29000', '26.35000'],\n",
       "  ['27.19', '-', '27.08250', '27.08250']],\n",
       " ['RUB', ['0.27', '-', '-', '-', '-'], ['0.37', '-', '-', '-']],\n",
       " ['VND', ['1.20', '-', '-', '-', '-'], ['1.55', '-', '1.50250', '1.50250']],\n",
       " ['ZAR', ['1.99', '-', '-', '-', '-'], ['2.35', '-', '-', '-']],\n",
       " ['AED', ['8.01', '-', '-', '-', '-'], ['9.19', '-', '-', '-']],\n",
       " ['BHD', ['74.72', '-', '-', '-', '-'], ['89.38', '-', '-', '-']],\n",
       " ['OMR', ['74.39', '-', '-', '-', '-'], ['87.30', '-', '-', '-']],\n",
       " ['QAR', ['-', '-', '-', '-', '-'], ['-', '-', '-', '-']],\n",
       " ['SAR', ['7.43', '-', '-', '-', '-'], ['8.99', '-', '-', '-']]]"
      ]
     },
     "execution_count": 188,
     "metadata": {},
     "output_type": "execute_result"
    }
   ],
   "source": [
    "bangkok_data"
   ]
  },
  {
   "cell_type": "code",
   "execution_count": 195,
   "metadata": {},
   "outputs": [
    {
     "data": {
      "text/plain": [
       "[['USD', ['32.43', '33.38', '-', '-', '33.48'], ['33.85', '33.78', '-', '-']],\n",
       " ['USD', ['32.83', '-', '-', '-', '-'], ['33.85', '-', '-', '-']],\n",
       " ['USD', ['33.23', '-', '-', '-', '-'], ['33.85', '-', '-', '-']],\n",
       " ['EUR',\n",
       "  ['36.39', '36.38649', '-', '-', '36.49899'],\n",
       "  ['37.33', '37.32335', '-', '-']],\n",
       " ['GBP',\n",
       "  ['43.57', '43.7356', '-', '-', '43.8656'],\n",
       "  ['44.77', '44.7399', '-', '-']],\n",
       " ['JPY',\n",
       "  ['0.2707', '0.27097', '-', '-', '0.27285'],\n",
       "  ['0.2818', '0.28099', '-', '-']],\n",
       " ['HKD',\n",
       "  ['4.20', '4.24503', '-', '-', '4.25878'],\n",
       "  ['4.37', '4.33823', '-', '-']],\n",
       " ['AUD', ['24.49', '24.57', '-', '-', '24.64'], ['25.69', '25.59', '-', '-']],\n",
       " ['SGD',\n",
       "  ['24.30', '24.4276', '-', '-', '24.5014'],\n",
       "  ['25.22', '25.0704', '-', '-']],\n",
       " ['CAD', ['26.12', '26.38', '-', '-', '26.46'], ['27.03', '27.03', '-', '-']],\n",
       " ['CNY', ['5.01', '5.1587', '-', '-', '5.1935'], ['5.45', '5.3682', '-', '-']],\n",
       " ['KHR', ['-', '-', '-', '-', '-'], ['-', '0.0083490', '-', '-']],\n",
       " ['DKK', ['4.71', '4.902', '-', '-', '4.917'], ['5.05', '5.008', '-', '-']],\n",
       " ['INR', ['0.302', '-', '-', '-', '0.40'], ['0.471', '0.49', '-', '-']],\n",
       " ['IDR', ['-', '-', '-', '-', '0.00228'], ['-', '0.00243', '-', '-']],\n",
       " ['KRW', ['0.0251', '-', '-', '-', '-'], ['0.0290', '0.0290', '-', '-']],\n",
       " ['MYR', ['7.31', '-', '-', '-', '7.8523'], ['8.04', '8.0573', '-', '-']],\n",
       " ['MMK', ['-', '-', '-', '-', '-'], ['-', '0.0189989', '-', '-']],\n",
       " ['TWD', ['1.06', '-', '-', '-', '-'], ['1.26', '-', '-', '-']],\n",
       " ['NZD', ['22.95', '22.99', '-', '-', '23.05'], ['23.86', '23.68', '-', '-']],\n",
       " ['NOK', ['3.70', '3.849', '-', '-', '3.861'], ['3.95', '3.930', '-', '-']],\n",
       " ['SEK', ['3.37', '3.523', '-', '-', '3.533'], ['3.63', '3.598', '-', '-']],\n",
       " ['CHF', ['35.39', '35.56', '-', '-', '35.66'], ['36.39', '36.39', '-', '-']],\n",
       " ['AED', ['7.59', '-', '-', '-', '8.67103'], ['9.71', '9.69791', '-', '-']],\n",
       " ['VND', ['0.00116', '-', '-', '-', '-'], ['0.00160', '-', '-', '-']]]"
      ]
     },
     "execution_count": 195,
     "metadata": {},
     "output_type": "execute_result"
    }
   ],
   "source": [
    "krungthai_data"
   ]
  },
  {
   "cell_type": "code",
   "execution_count": 197,
   "metadata": {},
   "outputs": [
    {
     "data": {
      "text/plain": [
       "['PHP',\n",
       " ['-', '-', '-', '-', '0.62663'],\n",
       " ['-', '0.65663', '0.65663', '0.65663']]"
      ]
     },
     "execution_count": 197,
     "metadata": {},
     "output_type": "execute_result"
    }
   ],
   "source": [
    "krungsri_data[-5]"
   ]
  },
  {
   "cell_type": "code",
   "execution_count": null,
   "metadata": {},
   "outputs": [],
   "source": []
  },
  {
   "cell_type": "markdown",
   "metadata": {},
   "source": [
    "#test bank"
   ]
  },
  {
   "cell_type": "code",
   "execution_count": 101,
   "metadata": {},
   "outputs": [
    {
     "name": "stderr",
     "output_type": "stream",
     "text": [
      "C:\\Users\\Administrator\\AppData\\Local\\Temp\\ipykernel_12516\\1252230772.py:5: DeprecationWarning: executable_path has been deprecated, please pass in a Service object\n",
      "  browser = webdriver.Chrome(options=options, executable_path='99.0.4844.51/chromedriver_win32/chromedriver.exe')\n"
     ]
    }
   ],
   "source": [
    "browser = start_browser()"
   ]
  },
  {
   "cell_type": "code",
   "execution_count": 102,
   "metadata": {},
   "outputs": [],
   "source": [
    "browser.get(website[4])\n",
    "html = browser.page_source\n",
    "soup = BeautifulSoup(html, features=\"html.parser\")\n",
    "end_browser(browser)"
   ]
  },
  {
   "cell_type": "code",
   "execution_count": null,
   "metadata": {},
   "outputs": [],
   "source": [
    "# my_headers = {'User-Agent': \"Mozilla/5.0 (Windows NT 10.0; Win64; x64) AppleWebKit/537.36 (KHTML, like Gecko) Chrome/99.0.4844.82 Safari/537.36\"}\n",
    "\n",
    "# res = requests.get('https://exchangerate.krungthai.com/',headers=my_headers)\n",
    "# soup = BeautifulSoup(res, 'html.parser')"
   ]
  },
  {
   "cell_type": "markdown",
   "metadata": {},
   "source": [
    "#test"
   ]
  },
  {
   "cell_type": "markdown",
   "metadata": {},
   "source": []
  },
  {
   "cell_type": "code",
   "execution_count": 139,
   "metadata": {},
   "outputs": [],
   "source": [
    "#clen soup data\n",
    "data = soup.find('div',{\"class\" : \"table-scroll\"}).find('tbody').find_all('tr')\n",
    "lst_rows = []\n",
    "for index,value in enumerate(data):\n",
    "    lst = remove_tag(str(value))\n",
    "    clear_lst = []\n",
    "    remove = re.compile(r'\\s|\\xa0|\\*')\n",
    "    for x in lst:\n",
    "        x = remove.sub('', x)\n",
    "        clear_lst.append(x)\n",
    "    lst_rows.append(clear_lst)"
   ]
  },
  {
   "cell_type": "code",
   "execution_count": 143,
   "metadata": {},
   "outputs": [],
   "source": [
    "data = soup.find('div',{\"class\" : \"table-scroll\"}).find('tbody').find_all('tr')\n",
    "lst_rows = []\n",
    "for index,value in enumerate(data):\n",
    "    lst = remove_tag(str(value))\n",
    "    remove = re.compile(r'\\s|\\xa0|\\*')\n",
    "    lst = [remove.sub('', x) for x in lst]\n",
    "    # lst2 = clear_lst[2:]\n",
    "    # lst_buy = [lst2[3],lst2[0],'-','-',lst2[1]]\n",
    "    # lst_sell = [lst2[4],lst2[2],'-','-']\n",
    "    lst_rows.append(lst)"
   ]
  },
  {
   "cell_type": "code",
   "execution_count": 156,
   "metadata": {},
   "outputs": [],
   "source": [
    "#lst_rows\n",
    "da = lst_rows[5][-5:]"
   ]
  },
  {
   "cell_type": "code",
   "execution_count": 159,
   "metadata": {},
   "outputs": [
    {
     "data": {
      "text/plain": [
       "'27.29000'"
      ]
     },
     "execution_count": 159,
     "metadata": {},
     "output_type": "execute_result"
    }
   ],
   "source": [
    "da[2]"
   ]
  },
  {
   "cell_type": "code",
   "execution_count": 29,
   "metadata": {},
   "outputs": [],
   "source": [
    "filename = str('hello')+'.txt'\n",
    "f = open(filename, 'w')\n",
    "with open(filename, 'w',encoding='utf-8') as f:\n",
    "    f.write(str(soup))"
   ]
  },
  {
   "cell_type": "markdown",
   "metadata": {},
   "source": [
    "#pack data to csv file"
   ]
  },
  {
   "cell_type": "markdown",
   "metadata": {},
   "source": [
    "#แยกเป็น แต่ละสกุลเงิน"
   ]
  },
  {
   "cell_type": "code",
   "execution_count": 158,
   "metadata": {},
   "outputs": [],
   "source": [
    "buy_rate = ['สกุลเงิน','ธนบัตร', 'ตั๋วเงิน', 'เช็คเดินทาง','ตั๋วแลกเงิน&ดราฟ','โอนเงินทางโทรเลข/โอนเงิน']\n",
    "br = pd.DataFrame()\n",
    "br = br.reindex(columns = buy_rate)"
   ]
  },
  {
   "cell_type": "code",
   "execution_count": 159,
   "metadata": {},
   "outputs": [],
   "source": [
    "sell_rate = ['สกุลเงิน','ธนบัตร', 'เช็คเดินทาง', 'ตั๋วแลกเงิน&ดราฟ','โอนเงินทางโทรเลข/โอนเงิน']\n",
    "sr = pd.DataFrame()\n",
    "sr = sr.reindex(columns = sell_rate)"
   ]
  },
  {
   "cell_type": "code",
   "execution_count": 160,
   "metadata": {},
   "outputs": [
    {
     "data": {
      "text/html": [
       "<div>\n",
       "<style scoped>\n",
       "    .dataframe tbody tr th:only-of-type {\n",
       "        vertical-align: middle;\n",
       "    }\n",
       "\n",
       "    .dataframe tbody tr th {\n",
       "        vertical-align: top;\n",
       "    }\n",
       "\n",
       "    .dataframe thead th {\n",
       "        text-align: right;\n",
       "    }\n",
       "</style>\n",
       "<table border=\"1\" class=\"dataframe\">\n",
       "  <thead>\n",
       "    <tr style=\"text-align: right;\">\n",
       "      <th></th>\n",
       "      <th>สกุลเงิน</th>\n",
       "      <th>ธนบัตร</th>\n",
       "      <th>ตั๋วเงิน</th>\n",
       "      <th>เช็คเดินทาง</th>\n",
       "      <th>ตั๋วแลกเงิน&amp;ดราฟ</th>\n",
       "      <th>โอนเงินทางโทรเลข/โอนเงิน</th>\n",
       "    </tr>\n",
       "  </thead>\n",
       "  <tbody>\n",
       "  </tbody>\n",
       "</table>\n",
       "</div>"
      ],
      "text/plain": [
       "Empty DataFrame\n",
       "Columns: [สกุลเงิน, ธนบัตร, ตั๋วเงิน, เช็คเดินทาง, ตั๋วแลกเงิน&ดราฟ, โอนเงินทางโทรเลข/โอนเงิน]\n",
       "Index: []"
      ]
     },
     "execution_count": 160,
     "metadata": {},
     "output_type": "execute_result"
    }
   ],
   "source": [
    "br"
   ]
  },
  {
   "cell_type": "code",
   "execution_count": 161,
   "metadata": {},
   "outputs": [
    {
     "data": {
      "text/html": [
       "<div>\n",
       "<style scoped>\n",
       "    .dataframe tbody tr th:only-of-type {\n",
       "        vertical-align: middle;\n",
       "    }\n",
       "\n",
       "    .dataframe tbody tr th {\n",
       "        vertical-align: top;\n",
       "    }\n",
       "\n",
       "    .dataframe thead th {\n",
       "        text-align: right;\n",
       "    }\n",
       "</style>\n",
       "<table border=\"1\" class=\"dataframe\">\n",
       "  <thead>\n",
       "    <tr style=\"text-align: right;\">\n",
       "      <th></th>\n",
       "      <th>สกุลเงิน</th>\n",
       "      <th>ธนบัตร</th>\n",
       "      <th>เช็คเดินทาง</th>\n",
       "      <th>ตั๋วแลกเงิน&amp;ดราฟ</th>\n",
       "      <th>โอนเงินทางโทรเลข/โอนเงิน</th>\n",
       "    </tr>\n",
       "  </thead>\n",
       "  <tbody>\n",
       "  </tbody>\n",
       "</table>\n",
       "</div>"
      ],
      "text/plain": [
       "Empty DataFrame\n",
       "Columns: [สกุลเงิน, ธนบัตร, เช็คเดินทาง, ตั๋วแลกเงิน&ดราฟ, โอนเงินทางโทรเลข/โอนเงิน]\n",
       "Index: []"
      ]
     },
     "execution_count": 161,
     "metadata": {},
     "output_type": "execute_result"
    }
   ],
   "source": [
    "sr"
   ]
  },
  {
   "cell_type": "code",
   "execution_count": 108,
   "metadata": {},
   "outputs": [],
   "source": [
    "for i,d in enumerate(data):\n",
    "    dd = \n",
    "    df.loc[len(df)] = dd"
   ]
  },
  {
   "cell_type": "code",
   "execution_count": 109,
   "metadata": {},
   "outputs": [
    {
     "data": {
      "text/html": [
       "<div>\n",
       "<style scoped>\n",
       "    .dataframe tbody tr th:only-of-type {\n",
       "        vertical-align: middle;\n",
       "    }\n",
       "\n",
       "    .dataframe tbody tr th {\n",
       "        vertical-align: top;\n",
       "    }\n",
       "\n",
       "    .dataframe thead th {\n",
       "        text-align: right;\n",
       "    }\n",
       "</style>\n",
       "<table border=\"1\" class=\"dataframe\">\n",
       "  <thead>\n",
       "    <tr style=\"text-align: right;\">\n",
       "      <th></th>\n",
       "      <th>Date</th>\n",
       "      <th>Price</th>\n",
       "      <th>Open</th>\n",
       "      <th>High</th>\n",
       "      <th>Low</th>\n",
       "      <th>Change(%)</th>\n",
       "    </tr>\n",
       "  </thead>\n",
       "  <tbody>\n",
       "    <tr>\n",
       "      <th>0</th>\n",
       "      <td>Mar 18, 2022</td>\n",
       "      <td>33.290</td>\n",
       "      <td>33.210</td>\n",
       "      <td>33.400</td>\n",
       "      <td>33.195</td>\n",
       "      <td>0.27%</td>\n",
       "    </tr>\n",
       "    <tr>\n",
       "      <th>1</th>\n",
       "      <td>Mar 17, 2022</td>\n",
       "      <td>33.200</td>\n",
       "      <td>33.400</td>\n",
       "      <td>33.400</td>\n",
       "      <td>33.180</td>\n",
       "      <td>-0.42%</td>\n",
       "    </tr>\n",
       "    <tr>\n",
       "      <th>2</th>\n",
       "      <td>Mar 16, 2022</td>\n",
       "      <td>33.340</td>\n",
       "      <td>33.540</td>\n",
       "      <td>33.560</td>\n",
       "      <td>33.250</td>\n",
       "      <td>-0.51%</td>\n",
       "    </tr>\n",
       "    <tr>\n",
       "      <th>3</th>\n",
       "      <td>Mar 15, 2022</td>\n",
       "      <td>33.510</td>\n",
       "      <td>33.450</td>\n",
       "      <td>33.570</td>\n",
       "      <td>33.420</td>\n",
       "      <td>0.18%</td>\n",
       "    </tr>\n",
       "    <tr>\n",
       "      <th>4</th>\n",
       "      <td>Mar 14, 2022</td>\n",
       "      <td>33.450</td>\n",
       "      <td>33.300</td>\n",
       "      <td>33.470</td>\n",
       "      <td>33.270</td>\n",
       "      <td>0.45%</td>\n",
       "    </tr>\n",
       "    <tr>\n",
       "      <th>5</th>\n",
       "      <td>Mar 11, 2022</td>\n",
       "      <td>33.300</td>\n",
       "      <td>33.140</td>\n",
       "      <td>33.360</td>\n",
       "      <td>33.115</td>\n",
       "      <td>0.54%</td>\n",
       "    </tr>\n",
       "    <tr>\n",
       "      <th>6</th>\n",
       "      <td>Mar 10, 2022</td>\n",
       "      <td>33.120</td>\n",
       "      <td>33.040</td>\n",
       "      <td>33.170</td>\n",
       "      <td>32.970</td>\n",
       "      <td>0.30%</td>\n",
       "    </tr>\n",
       "    <tr>\n",
       "      <th>7</th>\n",
       "      <td>Mar 09, 2022</td>\n",
       "      <td>33.020</td>\n",
       "      <td>33.220</td>\n",
       "      <td>33.235</td>\n",
       "      <td>32.975</td>\n",
       "      <td>-0.48%</td>\n",
       "    </tr>\n",
       "    <tr>\n",
       "      <th>8</th>\n",
       "      <td>Mar 08, 2022</td>\n",
       "      <td>33.180</td>\n",
       "      <td>33.000</td>\n",
       "      <td>33.230</td>\n",
       "      <td>32.990</td>\n",
       "      <td>0.55%</td>\n",
       "    </tr>\n",
       "    <tr>\n",
       "      <th>9</th>\n",
       "      <td>Mar 07, 2022</td>\n",
       "      <td>33.000</td>\n",
       "      <td>32.690</td>\n",
       "      <td>33.080</td>\n",
       "      <td>32.660</td>\n",
       "      <td>0.95%</td>\n",
       "    </tr>\n",
       "    <tr>\n",
       "      <th>10</th>\n",
       "      <td>Mar 04, 2022</td>\n",
       "      <td>32.690</td>\n",
       "      <td>32.590</td>\n",
       "      <td>32.750</td>\n",
       "      <td>32.550</td>\n",
       "      <td>0.34%</td>\n",
       "    </tr>\n",
       "    <tr>\n",
       "      <th>11</th>\n",
       "      <td>Mar 03, 2022</td>\n",
       "      <td>32.580</td>\n",
       "      <td>32.530</td>\n",
       "      <td>32.650</td>\n",
       "      <td>32.400</td>\n",
       "      <td>0.22%</td>\n",
       "    </tr>\n",
       "    <tr>\n",
       "      <th>12</th>\n",
       "      <td>Mar 02, 2022</td>\n",
       "      <td>32.510</td>\n",
       "      <td>32.710</td>\n",
       "      <td>32.765</td>\n",
       "      <td>32.420</td>\n",
       "      <td>-0.55%</td>\n",
       "    </tr>\n",
       "    <tr>\n",
       "      <th>13</th>\n",
       "      <td>Mar 01, 2022</td>\n",
       "      <td>32.690</td>\n",
       "      <td>32.665</td>\n",
       "      <td>32.760</td>\n",
       "      <td>32.510</td>\n",
       "      <td>0.06%</td>\n",
       "    </tr>\n",
       "    <tr>\n",
       "      <th>14</th>\n",
       "      <td>Feb 28, 2022</td>\n",
       "      <td>32.670</td>\n",
       "      <td>32.710</td>\n",
       "      <td>32.780</td>\n",
       "      <td>32.590</td>\n",
       "      <td>0.68%</td>\n",
       "    </tr>\n",
       "    <tr>\n",
       "      <th>15</th>\n",
       "      <td>Feb 25, 2022</td>\n",
       "      <td>32.450</td>\n",
       "      <td>32.625</td>\n",
       "      <td>32.660</td>\n",
       "      <td>32.415</td>\n",
       "      <td>-0.55%</td>\n",
       "    </tr>\n",
       "    <tr>\n",
       "      <th>16</th>\n",
       "      <td>Feb 24, 2022</td>\n",
       "      <td>32.630</td>\n",
       "      <td>32.270</td>\n",
       "      <td>32.890</td>\n",
       "      <td>32.240</td>\n",
       "      <td>1.15%</td>\n",
       "    </tr>\n",
       "    <tr>\n",
       "      <th>17</th>\n",
       "      <td>Feb 23, 2022</td>\n",
       "      <td>32.260</td>\n",
       "      <td>32.420</td>\n",
       "      <td>32.480</td>\n",
       "      <td>32.185</td>\n",
       "      <td>-0.49%</td>\n",
       "    </tr>\n",
       "    <tr>\n",
       "      <th>18</th>\n",
       "      <td>Feb 22, 2022</td>\n",
       "      <td>32.420</td>\n",
       "      <td>32.270</td>\n",
       "      <td>32.480</td>\n",
       "      <td>32.250</td>\n",
       "      <td>0.43%</td>\n",
       "    </tr>\n",
       "    <tr>\n",
       "      <th>19</th>\n",
       "      <td>Feb 21, 2022</td>\n",
       "      <td>32.280</td>\n",
       "      <td>32.140</td>\n",
       "      <td>32.290</td>\n",
       "      <td>32.090</td>\n",
       "      <td>0.37%</td>\n",
       "    </tr>\n",
       "  </tbody>\n",
       "</table>\n",
       "</div>"
      ],
      "text/plain": [
       "            Date   Price    Open    High     Low Change(%)\n",
       "0   Mar 18, 2022  33.290  33.210  33.400  33.195     0.27%\n",
       "1   Mar 17, 2022  33.200  33.400  33.400  33.180    -0.42%\n",
       "2   Mar 16, 2022  33.340  33.540  33.560  33.250    -0.51%\n",
       "3   Mar 15, 2022  33.510  33.450  33.570  33.420     0.18%\n",
       "4   Mar 14, 2022  33.450  33.300  33.470  33.270     0.45%\n",
       "5   Mar 11, 2022  33.300  33.140  33.360  33.115     0.54%\n",
       "6   Mar 10, 2022  33.120  33.040  33.170  32.970     0.30%\n",
       "7   Mar 09, 2022  33.020  33.220  33.235  32.975    -0.48%\n",
       "8   Mar 08, 2022  33.180  33.000  33.230  32.990     0.55%\n",
       "9   Mar 07, 2022  33.000  32.690  33.080  32.660     0.95%\n",
       "10  Mar 04, 2022  32.690  32.590  32.750  32.550     0.34%\n",
       "11  Mar 03, 2022  32.580  32.530  32.650  32.400     0.22%\n",
       "12  Mar 02, 2022  32.510  32.710  32.765  32.420    -0.55%\n",
       "13  Mar 01, 2022  32.690  32.665  32.760  32.510     0.06%\n",
       "14  Feb 28, 2022  32.670  32.710  32.780  32.590     0.68%\n",
       "15  Feb 25, 2022  32.450  32.625  32.660  32.415    -0.55%\n",
       "16  Feb 24, 2022  32.630  32.270  32.890  32.240     1.15%\n",
       "17  Feb 23, 2022  32.260  32.420  32.480  32.185    -0.49%\n",
       "18  Feb 22, 2022  32.420  32.270  32.480  32.250     0.43%\n",
       "19  Feb 21, 2022  32.280  32.140  32.290  32.090     0.37%"
      ]
     },
     "execution_count": 109,
     "metadata": {},
     "output_type": "execute_result"
    }
   ],
   "source": [
    "df"
   ]
  },
  {
   "cell_type": "code",
   "execution_count": 110,
   "metadata": {},
   "outputs": [],
   "source": [
    "df.to_csv('thb-usd.csv',index=False)"
   ]
  },
  {
   "cell_type": "code",
   "execution_count": null,
   "metadata": {},
   "outputs": [],
   "source": []
  },
  {
   "cell_type": "code",
   "execution_count": 112,
   "metadata": {},
   "outputs": [],
   "source": [
    "# f = open('text.txt', 'w')\n",
    "# with open('text.txt', 'w',encoding='utf-8') as f:\n",
    "#     f.write(str(soup))"
   ]
  },
  {
   "cell_type": "code",
   "execution_count": 113,
   "metadata": {},
   "outputs": [],
   "source": [
    "#soup"
   ]
  }
 ],
 "metadata": {
  "interpreter": {
   "hash": "69eb92836b941e979072a76c7fcfffe5419cca933cedd02cfafbdfca1a93358c"
  },
  "kernelspec": {
   "display_name": "Python 3.9.10 64-bit",
   "language": "python",
   "name": "python3"
  },
  "language_info": {
   "codemirror_mode": {
    "name": "ipython",
    "version": 3
   },
   "file_extension": ".py",
   "mimetype": "text/x-python",
   "name": "python",
   "nbconvert_exporter": "python",
   "pygments_lexer": "ipython3",
   "version": "3.9.11"
  },
  "orig_nbformat": 4
 },
 "nbformat": 4,
 "nbformat_minor": 2
}
