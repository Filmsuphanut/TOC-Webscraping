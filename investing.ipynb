{
 "cells": [
  {
   "cell_type": "code",
   "execution_count": 34,
   "metadata": {},
   "outputs": [],
   "source": [
    "from bs4 import BeautifulSoup, Comment\n",
    "import requests\n",
    "import regex as re\n",
    "import xml\n",
    "from selenium import webdriver\n",
    "import pandas as pd\n",
    "import time"
   ]
  },
  {
   "cell_type": "code",
   "execution_count": 24,
   "metadata": {},
   "outputs": [],
   "source": [
    "#USD\n",
    "\n",
    "website = [\"https://th.investing.com/currencies/usd-thb-historical-data\",\n",
    "\"https://th.investing.com/currencies/jpy-thb-historical-data\",\n",
    "\"https://th.investing.com/currencies/cny-thb-historical-data\",\n",
    "]\n"
   ]
  },
  {
   "cell_type": "code",
   "execution_count": 25,
   "metadata": {},
   "outputs": [],
   "source": [
    "def remove_tag(html_str):\n",
    "    TAG_RE = re.compile(r'<[^>]+>')\n",
    "    text = TAG_RE.sub('!@', html_str)\n",
    "    mylist = re.split(r'!@', text)\n",
    "    clear_lst = []\n",
    "    for clear_text in mylist:\n",
    "        if (clear_text not in \"\\n\") and (clear_text not in \" \") and (clear_text not in \"\"):\n",
    "            clear_lst.append(clear_text)\n",
    "    return clear_lst\n",
    "#https://www.guru99.com/python-regular-expressions-complete-tutorial.html"
   ]
  },
  {
   "cell_type": "code",
   "execution_count": 5,
   "metadata": {},
   "outputs": [],
   "source": [
    "# def re_find(tag_start,tag_end,text):\n",
    "#     a = re.search(tag_start, text)\n",
    "#     if a == None:\n",
    "#         return ''\n",
    "#     text = text[a.start():]\n",
    "#     b = re.search(tag_end, text)\n",
    "#     text = text[:b.end()]\n",
    "#     #print(a.start(),b.start())\n",
    "#     return text"
   ]
  },
  {
   "cell_type": "code",
   "execution_count": 6,
   "metadata": {},
   "outputs": [],
   "source": [
    "# def re_find_all(tag_start,tag_end,text):\n",
    "#     list_all = []\n",
    "#     while(True):\n",
    "#         a = re.search(tag_start, text)\n",
    "#         #print(a.start(),b.end())\n",
    "#         if(a == None):\n",
    "#             #print(\"break\")\n",
    "#             return list_all\n",
    "#         text = text[a.start():]\n",
    "#         b = re.search(tag_end, text)\n",
    "#         list_all.append(text[:b.end()])\n",
    "#         text=text[b.end():]\n",
    "#     return list_all"
   ]
  },
  {
   "cell_type": "markdown",
   "metadata": {},
   "source": [
    "#start browser"
   ]
  },
  {
   "cell_type": "code",
   "execution_count": 37,
   "metadata": {},
   "outputs": [
    {
     "name": "stderr",
     "output_type": "stream",
     "text": [
      "C:\\Users\\Administrator\\AppData\\Local\\Temp\\ipykernel_12564\\924491811.py:5: DeprecationWarning: executable_path has been deprecated, please pass in a Service object\n",
      "  browser = webdriver.Chrome(options=options, executable_path='99.0.4844.51/chromedriver_win32/chromedriver.exe')\n"
     ]
    }
   ],
   "source": [
    "options = webdriver.ChromeOptions()\n",
    "options.add_argument('--headless')\n",
    "# executable_path param is not needed if you updated PATH\n",
    "\n",
    "browser = webdriver.Chrome(options=options, executable_path='99.0.4844.51/chromedriver_win32/chromedriver.exe')"
   ]
  },
  {
   "cell_type": "code",
   "execution_count": 38,
   "metadata": {},
   "outputs": [],
   "source": [
    "browser.get(website[0])\n",
    "time.sleep(3)\n",
    "html = browser.page_source\n",
    "soup = BeautifulSoup(html, features=\"html.parser\")"
   ]
  },
  {
   "cell_type": "code",
   "execution_count": 8,
   "metadata": {},
   "outputs": [],
   "source": [
    "#data = soup.find('div',{\"id\" : \"results_box\"}).find('table',{'class':'genTbl closedTbl historicalTbl'}).find('tbody').find_all('tr')"
   ]
  },
  {
   "cell_type": "code",
   "execution_count": 9,
   "metadata": {},
   "outputs": [],
   "source": [
    "# data = re_find_all(r'<tr>',r'</tr>',re_find(r'<tbody>',r'</tbody>',re_find(r'<table class=\"genTbl closedTbl historicalTbl\" id=\"curr_table\" tablesorter=\"\">',r'</table>',re_find(r'<div id=\"results_box\">',r'</div>',str(soup)))))"
   ]
  },
  {
   "cell_type": "code",
   "execution_count": 53,
   "metadata": {},
   "outputs": [],
   "source": [
    "data = re.findall('<tr>(.+?)</tr>',re.findall('<tbody>(.+?)</tbody>',re.findall('<table class=\"genTbl closedTbl historicalTbl\" id=\"curr_table\" tablesorter=\"\">(.+?)</table>', re.findall('<div id=\"results_box\">(.+?)</div>',re.sub(r'\\n',\"\",str(soup)))[0])[0])[0])"
   ]
  },
  {
   "cell_type": "markdown",
   "metadata": {},
   "source": [
    "#pack data to csv file"
   ]
  },
  {
   "cell_type": "code",
   "execution_count": 55,
   "metadata": {},
   "outputs": [],
   "source": [
    "col = ['Date', 'Price', 'Open','High','Low','Change(%)']\n",
    "df = pd.DataFrame()\n",
    "df = df.reindex(columns = col)"
   ]
  },
  {
   "cell_type": "code",
   "execution_count": 56,
   "metadata": {},
   "outputs": [],
   "source": [
    "for i,d in enumerate(data):\n",
    "    dd = remove_tag(str(d))\n",
    "    df.loc[len(df)] = dd"
   ]
  },
  {
   "cell_type": "code",
   "execution_count": 57,
   "metadata": {},
   "outputs": [
    {
     "data": {
      "text/html": [
       "<div>\n",
       "<style scoped>\n",
       "    .dataframe tbody tr th:only-of-type {\n",
       "        vertical-align: middle;\n",
       "    }\n",
       "\n",
       "    .dataframe tbody tr th {\n",
       "        vertical-align: top;\n",
       "    }\n",
       "\n",
       "    .dataframe thead th {\n",
       "        text-align: right;\n",
       "    }\n",
       "</style>\n",
       "<table border=\"1\" class=\"dataframe\">\n",
       "  <thead>\n",
       "    <tr style=\"text-align: right;\">\n",
       "      <th></th>\n",
       "      <th>Date</th>\n",
       "      <th>Price</th>\n",
       "      <th>Open</th>\n",
       "      <th>High</th>\n",
       "      <th>Low</th>\n",
       "      <th>Change(%)</th>\n",
       "    </tr>\n",
       "  </thead>\n",
       "  <tbody>\n",
       "    <tr>\n",
       "      <th>0</th>\n",
       "      <td>Apr 20, 2022</td>\n",
       "      <td>33.785</td>\n",
       "      <td>33.780</td>\n",
       "      <td>33.900</td>\n",
       "      <td>33.730</td>\n",
       "      <td>-0.01%</td>\n",
       "    </tr>\n",
       "    <tr>\n",
       "      <th>1</th>\n",
       "      <td>Apr 19, 2022</td>\n",
       "      <td>33.790</td>\n",
       "      <td>33.690</td>\n",
       "      <td>33.810</td>\n",
       "      <td>33.650</td>\n",
       "      <td>0.30%</td>\n",
       "    </tr>\n",
       "    <tr>\n",
       "      <th>2</th>\n",
       "      <td>Apr 18, 2022</td>\n",
       "      <td>33.690</td>\n",
       "      <td>33.630</td>\n",
       "      <td>33.720</td>\n",
       "      <td>33.580</td>\n",
       "      <td>0.24%</td>\n",
       "    </tr>\n",
       "    <tr>\n",
       "      <th>3</th>\n",
       "      <td>Apr 15, 2022</td>\n",
       "      <td>33.610</td>\n",
       "      <td>33.690</td>\n",
       "      <td>33.720</td>\n",
       "      <td>33.600</td>\n",
       "      <td>-0.21%</td>\n",
       "    </tr>\n",
       "    <tr>\n",
       "      <th>4</th>\n",
       "      <td>Apr 14, 2022</td>\n",
       "      <td>33.680</td>\n",
       "      <td>33.520</td>\n",
       "      <td>33.720</td>\n",
       "      <td>33.460</td>\n",
       "      <td>0.54%</td>\n",
       "    </tr>\n",
       "    <tr>\n",
       "      <th>5</th>\n",
       "      <td>Apr 13, 2022</td>\n",
       "      <td>33.500</td>\n",
       "      <td>33.570</td>\n",
       "      <td>33.580</td>\n",
       "      <td>33.445</td>\n",
       "      <td>-0.24%</td>\n",
       "    </tr>\n",
       "    <tr>\n",
       "      <th>6</th>\n",
       "      <td>Apr 12, 2022</td>\n",
       "      <td>33.580</td>\n",
       "      <td>33.610</td>\n",
       "      <td>33.710</td>\n",
       "      <td>33.460</td>\n",
       "      <td>-0.06%</td>\n",
       "    </tr>\n",
       "    <tr>\n",
       "      <th>7</th>\n",
       "      <td>Apr 11, 2022</td>\n",
       "      <td>33.600</td>\n",
       "      <td>33.590</td>\n",
       "      <td>33.680</td>\n",
       "      <td>33.545</td>\n",
       "      <td>0.03%</td>\n",
       "    </tr>\n",
       "    <tr>\n",
       "      <th>8</th>\n",
       "      <td>Apr 08, 2022</td>\n",
       "      <td>33.590</td>\n",
       "      <td>33.490</td>\n",
       "      <td>33.650</td>\n",
       "      <td>33.465</td>\n",
       "      <td>0.33%</td>\n",
       "    </tr>\n",
       "    <tr>\n",
       "      <th>9</th>\n",
       "      <td>Apr 07, 2022</td>\n",
       "      <td>33.480</td>\n",
       "      <td>33.600</td>\n",
       "      <td>33.610</td>\n",
       "      <td>33.385</td>\n",
       "      <td>-0.30%</td>\n",
       "    </tr>\n",
       "    <tr>\n",
       "      <th>10</th>\n",
       "      <td>Apr 06, 2022</td>\n",
       "      <td>33.580</td>\n",
       "      <td>33.540</td>\n",
       "      <td>33.640</td>\n",
       "      <td>33.535</td>\n",
       "      <td>0.15%</td>\n",
       "    </tr>\n",
       "    <tr>\n",
       "      <th>11</th>\n",
       "      <td>Apr 05, 2022</td>\n",
       "      <td>33.530</td>\n",
       "      <td>33.470</td>\n",
       "      <td>33.550</td>\n",
       "      <td>33.370</td>\n",
       "      <td>0.27%</td>\n",
       "    </tr>\n",
       "    <tr>\n",
       "      <th>12</th>\n",
       "      <td>Apr 04, 2022</td>\n",
       "      <td>33.440</td>\n",
       "      <td>33.460</td>\n",
       "      <td>33.550</td>\n",
       "      <td>33.430</td>\n",
       "      <td>-0.15%</td>\n",
       "    </tr>\n",
       "    <tr>\n",
       "      <th>13</th>\n",
       "      <td>Apr 01, 2022</td>\n",
       "      <td>33.490</td>\n",
       "      <td>33.290</td>\n",
       "      <td>33.530</td>\n",
       "      <td>33.265</td>\n",
       "      <td>0.63%</td>\n",
       "    </tr>\n",
       "    <tr>\n",
       "      <th>14</th>\n",
       "      <td>Mar 31, 2022</td>\n",
       "      <td>33.280</td>\n",
       "      <td>33.350</td>\n",
       "      <td>33.400</td>\n",
       "      <td>33.180</td>\n",
       "      <td>-0.15%</td>\n",
       "    </tr>\n",
       "    <tr>\n",
       "      <th>15</th>\n",
       "      <td>Mar 30, 2022</td>\n",
       "      <td>33.330</td>\n",
       "      <td>33.480</td>\n",
       "      <td>33.595</td>\n",
       "      <td>33.280</td>\n",
       "      <td>-0.51%</td>\n",
       "    </tr>\n",
       "    <tr>\n",
       "      <th>16</th>\n",
       "      <td>Mar 29, 2022</td>\n",
       "      <td>33.500</td>\n",
       "      <td>33.780</td>\n",
       "      <td>33.800</td>\n",
       "      <td>33.470</td>\n",
       "      <td>-0.80%</td>\n",
       "    </tr>\n",
       "    <tr>\n",
       "      <th>17</th>\n",
       "      <td>Mar 28, 2022</td>\n",
       "      <td>33.770</td>\n",
       "      <td>33.570</td>\n",
       "      <td>33.810</td>\n",
       "      <td>33.570</td>\n",
       "      <td>0.57%</td>\n",
       "    </tr>\n",
       "    <tr>\n",
       "      <th>18</th>\n",
       "      <td>Mar 25, 2022</td>\n",
       "      <td>33.580</td>\n",
       "      <td>33.510</td>\n",
       "      <td>33.610</td>\n",
       "      <td>33.420</td>\n",
       "      <td>0.21%</td>\n",
       "    </tr>\n",
       "    <tr>\n",
       "      <th>19</th>\n",
       "      <td>Mar 24, 2022</td>\n",
       "      <td>33.510</td>\n",
       "      <td>33.610</td>\n",
       "      <td>33.720</td>\n",
       "      <td>33.505</td>\n",
       "      <td>-0.30%</td>\n",
       "    </tr>\n",
       "    <tr>\n",
       "      <th>20</th>\n",
       "      <td>Mar 23, 2022</td>\n",
       "      <td>33.610</td>\n",
       "      <td>33.510</td>\n",
       "      <td>33.700</td>\n",
       "      <td>33.445</td>\n",
       "      <td>0.39%</td>\n",
       "    </tr>\n",
       "    <tr>\n",
       "      <th>21</th>\n",
       "      <td>Mar 22, 2022</td>\n",
       "      <td>33.480</td>\n",
       "      <td>33.540</td>\n",
       "      <td>33.710</td>\n",
       "      <td>33.450</td>\n",
       "      <td>-0.18%</td>\n",
       "    </tr>\n",
       "    <tr>\n",
       "      <th>22</th>\n",
       "      <td>Mar 21, 2022</td>\n",
       "      <td>33.540</td>\n",
       "      <td>33.280</td>\n",
       "      <td>33.570</td>\n",
       "      <td>33.270</td>\n",
       "      <td>0.75%</td>\n",
       "    </tr>\n",
       "  </tbody>\n",
       "</table>\n",
       "</div>"
      ],
      "text/plain": [
       "            Date   Price    Open    High     Low Change(%)\n",
       "0   Apr 20, 2022  33.785  33.780  33.900  33.730    -0.01%\n",
       "1   Apr 19, 2022  33.790  33.690  33.810  33.650     0.30%\n",
       "2   Apr 18, 2022  33.690  33.630  33.720  33.580     0.24%\n",
       "3   Apr 15, 2022  33.610  33.690  33.720  33.600    -0.21%\n",
       "4   Apr 14, 2022  33.680  33.520  33.720  33.460     0.54%\n",
       "5   Apr 13, 2022  33.500  33.570  33.580  33.445    -0.24%\n",
       "6   Apr 12, 2022  33.580  33.610  33.710  33.460    -0.06%\n",
       "7   Apr 11, 2022  33.600  33.590  33.680  33.545     0.03%\n",
       "8   Apr 08, 2022  33.590  33.490  33.650  33.465     0.33%\n",
       "9   Apr 07, 2022  33.480  33.600  33.610  33.385    -0.30%\n",
       "10  Apr 06, 2022  33.580  33.540  33.640  33.535     0.15%\n",
       "11  Apr 05, 2022  33.530  33.470  33.550  33.370     0.27%\n",
       "12  Apr 04, 2022  33.440  33.460  33.550  33.430    -0.15%\n",
       "13  Apr 01, 2022  33.490  33.290  33.530  33.265     0.63%\n",
       "14  Mar 31, 2022  33.280  33.350  33.400  33.180    -0.15%\n",
       "15  Mar 30, 2022  33.330  33.480  33.595  33.280    -0.51%\n",
       "16  Mar 29, 2022  33.500  33.780  33.800  33.470    -0.80%\n",
       "17  Mar 28, 2022  33.770  33.570  33.810  33.570     0.57%\n",
       "18  Mar 25, 2022  33.580  33.510  33.610  33.420     0.21%\n",
       "19  Mar 24, 2022  33.510  33.610  33.720  33.505    -0.30%\n",
       "20  Mar 23, 2022  33.610  33.510  33.700  33.445     0.39%\n",
       "21  Mar 22, 2022  33.480  33.540  33.710  33.450    -0.18%\n",
       "22  Mar 21, 2022  33.540  33.280  33.570  33.270     0.75%"
      ]
     },
     "execution_count": 57,
     "metadata": {},
     "output_type": "execute_result"
    }
   ],
   "source": [
    "df"
   ]
  },
  {
   "cell_type": "code",
   "execution_count": 16,
   "metadata": {},
   "outputs": [],
   "source": [
    "#df.to_csv('thb-usd.csv',index=False)\n",
    "df.to_json('thb-usd.json')"
   ]
  },
  {
   "cell_type": "markdown",
   "metadata": {},
   "source": [
    "#close browser"
   ]
  },
  {
   "cell_type": "code",
   "execution_count": 58,
   "metadata": {},
   "outputs": [],
   "source": [
    "browser.quit()"
   ]
  },
  {
   "cell_type": "code",
   "execution_count": null,
   "metadata": {},
   "outputs": [],
   "source": []
  },
  {
   "cell_type": "code",
   "execution_count": 13,
   "metadata": {},
   "outputs": [],
   "source": [
    "f = open('text2.txt', 'w')\n",
    "with open('text2.txt', 'w',encoding='utf-8') as f:\n",
    "    f.write(str(soup))"
   ]
  },
  {
   "cell_type": "code",
   "execution_count": 113,
   "metadata": {},
   "outputs": [],
   "source": [
    "#soup"
   ]
  }
 ],
 "metadata": {
  "interpreter": {
   "hash": "69eb92836b941e979072a76c7fcfffe5419cca933cedd02cfafbdfca1a93358c"
  },
  "kernelspec": {
   "display_name": "Python 3.9.10 64-bit",
   "language": "python",
   "name": "python3"
  },
  "language_info": {
   "codemirror_mode": {
    "name": "ipython",
    "version": 3
   },
   "file_extension": ".py",
   "mimetype": "text/x-python",
   "name": "python",
   "nbconvert_exporter": "python",
   "pygments_lexer": "ipython3",
   "version": "3.9.12"
  },
  "orig_nbformat": 4
 },
 "nbformat": 4,
 "nbformat_minor": 2
}
