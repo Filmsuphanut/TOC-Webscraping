{
 "cells": [
  {
   "cell_type": "code",
   "execution_count": 1,
   "metadata": {},
   "outputs": [],
   "source": [
    "from bs4 import BeautifulSoup, Comment\n",
    "import requests\n",
    "import regex as re\n",
    "import xml\n",
    "from selenium import webdriver\n",
    "import pandas as pd"
   ]
  },
  {
   "cell_type": "markdown",
   "metadata": {},
   "source": [
    "#Remove HTML T A G S by regex |||||||||| Actually, use get_text() Function. It's much easier. =,,="
   ]
  },
  {
   "cell_type": "code",
   "execution_count": 2,
   "metadata": {},
   "outputs": [],
   "source": [
    "#USD\n",
    "\n",
    "website = [\"https://th.investing.com/currencies/usd-thb-historical-data\",\n",
    "\"https://th.investing.com/currencies/jpy-thb-historical-data\",\n",
    "\"https://th.investing.com/currencies/cny-thb-historical-data\",\n",
    "]\n"
   ]
  },
  {
   "cell_type": "code",
   "execution_count": 3,
   "metadata": {},
   "outputs": [],
   "source": [
    "def remove_tag(html_str):\n",
    "    TAG_RE = re.compile(r'<[^>]+>')\n",
    "    text = TAG_RE.sub('!@', html_str)\n",
    "    mylist = re.split(r'!@', text)\n",
    "    clear_lst = []\n",
    "    for clear_text in mylist:\n",
    "        if (clear_text not in \"\\n\") and (clear_text not in \" \") and (clear_text not in \"\"):\n",
    "            clear_lst.append(clear_text)\n",
    "    return clear_lst\n",
    "#https://www.guru99.com/python-regular-expressions-complete-tutorial.html"
   ]
  },
  {
   "cell_type": "code",
   "execution_count": 4,
   "metadata": {},
   "outputs": [],
   "source": [
    "def re_find(tag_start,tag_end,text):\n",
    "    a = re.search(tag_start, text)\n",
    "    if a == None:\n",
    "        return ''\n",
    "    text = text[a.start():]\n",
    "    b = re.search(tag_end, text)\n",
    "    text = text[:b.end()]\n",
    "    #print(a.start(),b.start())\n",
    "    return text"
   ]
  },
  {
   "cell_type": "code",
   "execution_count": 5,
   "metadata": {},
   "outputs": [],
   "source": [
    "def re_find_all(tag_start,tag_end,text):\n",
    "    list_all = []\n",
    "    while(True):\n",
    "        a = re.search(tag_start, text)\n",
    "        #print(a.start(),b.end())\n",
    "        if(a == None):\n",
    "            #print(\"break\")\n",
    "            return list_all\n",
    "        text = text[a.start():]\n",
    "        b = re.search(tag_end, text)\n",
    "        list_all.append(text[:b.end()])\n",
    "        text=text[b.end():]\n",
    "    return list_all"
   ]
  },
  {
   "cell_type": "markdown",
   "metadata": {},
   "source": [
    "#start browser"
   ]
  },
  {
   "cell_type": "code",
   "execution_count": 6,
   "metadata": {},
   "outputs": [
    {
     "name": "stderr",
     "output_type": "stream",
     "text": [
      "C:\\Users\\Administrator\\AppData\\Local\\Temp\\ipykernel_8292\\924491811.py:5: DeprecationWarning: executable_path has been deprecated, please pass in a Service object\n",
      "  browser = webdriver.Chrome(options=options, executable_path='99.0.4844.51/chromedriver_win32/chromedriver.exe')\n"
     ]
    }
   ],
   "source": [
    "options = webdriver.ChromeOptions()\n",
    "options.add_argument('--headless')\n",
    "# executable_path param is not needed if you updated PATH\n",
    "\n",
    "browser = webdriver.Chrome(options=options, executable_path='99.0.4844.51/chromedriver_win32/chromedriver.exe')"
   ]
  },
  {
   "cell_type": "code",
   "execution_count": 12,
   "metadata": {},
   "outputs": [],
   "source": [
    "browser.get(website[0])\n",
    "html = browser.page_source\n",
    "soup = BeautifulSoup(html, features=\"html.parser\")"
   ]
  },
  {
   "cell_type": "code",
   "execution_count": 8,
   "metadata": {},
   "outputs": [],
   "source": [
    "#data = soup.find('div',{\"id\" : \"results_box\"}).find('table',{'class':'genTbl closedTbl historicalTbl'}).find('tbody').find_all('tr')\n"
   ]
  },
  {
   "cell_type": "code",
   "execution_count": 24,
   "metadata": {},
   "outputs": [],
   "source": [
    "data = re_find_all(r'<tr>',r'</tr>',re_find(r'<tbody>',r'</tbody>',re_find(r'<table class=\"genTbl closedTbl historicalTbl\" id=\"curr_table\" tablesorter=\"\">',r'</table>',re_find(r'<div id=\"results_box\">',r'</div>',str(soup)))))"
   ]
  },
  {
   "cell_type": "code",
   "execution_count": 25,
   "metadata": {},
   "outputs": [
    {
     "data": {
      "text/plain": [
       "['<tr>\\n<td class=\"first left bold noWrap\" data-real-value=\"1648166400\">Mar 25, 2022</td>\\n<td class=\"greenFont\" data-real-value=\"33.600\">33.600</td>\\n<td data-real-value=\"33.530\">33.530</td>\\n<td data-real-value=\"33.610\">33.610</td>\\n<td data-real-value=\"33.420\">33.420</td>\\n<td class=\"bold greenFont\">0.27%</td>\\n</tr>',\n",
       " '<tr>\\n<td class=\"first left bold noWrap\" data-real-value=\"1648080000\">Mar 24, 2022</td>\\n<td class=\"redFont\" data-real-value=\"33.510\">33.510</td>\\n<td data-real-value=\"33.610\">33.610</td>\\n<td data-real-value=\"33.720\">33.720</td>\\n<td data-real-value=\"33.505\">33.505</td>\\n<td class=\"bold redFont\">-0.30%</td>\\n</tr>',\n",
       " '<tr>\\n<td class=\"first left bold noWrap\" data-real-value=\"1647993600\">Mar 23, 2022</td>\\n<td class=\"greenFont\" data-real-value=\"33.610\">33.610</td>\\n<td data-real-value=\"33.510\">33.510</td>\\n<td data-real-value=\"33.700\">33.700</td>\\n<td data-real-value=\"33.445\">33.445</td>\\n<td class=\"bold greenFont\">0.39%</td>\\n</tr>',\n",
       " '<tr>\\n<td class=\"first left bold noWrap\" data-real-value=\"1647907200\">Mar 22, 2022</td>\\n<td class=\"redFont\" data-real-value=\"33.480\">33.480</td>\\n<td data-real-value=\"33.540\">33.540</td>\\n<td data-real-value=\"33.710\">33.710</td>\\n<td data-real-value=\"33.450\">33.450</td>\\n<td class=\"bold redFont\">-0.18%</td>\\n</tr>',\n",
       " '<tr>\\n<td class=\"first left bold noWrap\" data-real-value=\"1647820800\">Mar 21, 2022</td>\\n<td class=\"greenFont\" data-real-value=\"33.540\">33.540</td>\\n<td data-real-value=\"33.280\">33.280</td>\\n<td data-real-value=\"33.570\">33.570</td>\\n<td data-real-value=\"33.270\">33.270</td>\\n<td class=\"bold greenFont\">0.75%</td>\\n</tr>',\n",
       " '<tr>\\n<td class=\"first left bold noWrap\" data-real-value=\"1647561600\">Mar 18, 2022</td>\\n<td class=\"greenFont\" data-real-value=\"33.290\">33.290</td>\\n<td data-real-value=\"33.210\">33.210</td>\\n<td data-real-value=\"33.400\">33.400</td>\\n<td data-real-value=\"33.195\">33.195</td>\\n<td class=\"bold greenFont\">0.27%</td>\\n</tr>',\n",
       " '<tr>\\n<td class=\"first left bold noWrap\" data-real-value=\"1647475200\">Mar 17, 2022</td>\\n<td class=\"redFont\" data-real-value=\"33.200\">33.200</td>\\n<td data-real-value=\"33.400\">33.400</td>\\n<td data-real-value=\"33.400\">33.400</td>\\n<td data-real-value=\"33.180\">33.180</td>\\n<td class=\"bold redFont\">-0.42%</td>\\n</tr>',\n",
       " '<tr>\\n<td class=\"first left bold noWrap\" data-real-value=\"1647388800\">Mar 16, 2022</td>\\n<td class=\"redFont\" data-real-value=\"33.340\">33.340</td>\\n<td data-real-value=\"33.540\">33.540</td>\\n<td data-real-value=\"33.560\">33.560</td>\\n<td data-real-value=\"33.250\">33.250</td>\\n<td class=\"bold redFont\">-0.51%</td>\\n</tr>',\n",
       " '<tr>\\n<td class=\"first left bold noWrap\" data-real-value=\"1647302400\">Mar 15, 2022</td>\\n<td class=\"greenFont\" data-real-value=\"33.510\">33.510</td>\\n<td data-real-value=\"33.450\">33.450</td>\\n<td data-real-value=\"33.570\">33.570</td>\\n<td data-real-value=\"33.420\">33.420</td>\\n<td class=\"bold greenFont\">0.18%</td>\\n</tr>',\n",
       " '<tr>\\n<td class=\"first left bold noWrap\" data-real-value=\"1647216000\">Mar 14, 2022</td>\\n<td class=\"greenFont\" data-real-value=\"33.450\">33.450</td>\\n<td data-real-value=\"33.300\">33.300</td>\\n<td data-real-value=\"33.470\">33.470</td>\\n<td data-real-value=\"33.270\">33.270</td>\\n<td class=\"bold greenFont\">0.45%</td>\\n</tr>',\n",
       " '<tr>\\n<td class=\"first left bold noWrap\" data-real-value=\"1646956800\">Mar 11, 2022</td>\\n<td class=\"greenFont\" data-real-value=\"33.300\">33.300</td>\\n<td data-real-value=\"33.140\">33.140</td>\\n<td data-real-value=\"33.360\">33.360</td>\\n<td data-real-value=\"33.115\">33.115</td>\\n<td class=\"bold greenFont\">0.54%</td>\\n</tr>',\n",
       " '<tr>\\n<td class=\"first left bold noWrap\" data-real-value=\"1646870400\">Mar 10, 2022</td>\\n<td class=\"greenFont\" data-real-value=\"33.120\">33.120</td>\\n<td data-real-value=\"33.040\">33.040</td>\\n<td data-real-value=\"33.170\">33.170</td>\\n<td data-real-value=\"32.970\">32.970</td>\\n<td class=\"bold greenFont\">0.30%</td>\\n</tr>',\n",
       " '<tr>\\n<td class=\"first left bold noWrap\" data-real-value=\"1646784000\">Mar 09, 2022</td>\\n<td class=\"redFont\" data-real-value=\"33.020\">33.020</td>\\n<td data-real-value=\"33.220\">33.220</td>\\n<td data-real-value=\"33.235\">33.235</td>\\n<td data-real-value=\"32.975\">32.975</td>\\n<td class=\"bold redFont\">-0.48%</td>\\n</tr>',\n",
       " '<tr>\\n<td class=\"first left bold noWrap\" data-real-value=\"1646697600\">Mar 08, 2022</td>\\n<td class=\"greenFont\" data-real-value=\"33.180\">33.180</td>\\n<td data-real-value=\"33.000\">33.000</td>\\n<td data-real-value=\"33.230\">33.230</td>\\n<td data-real-value=\"32.990\">32.990</td>\\n<td class=\"bold greenFont\">0.55%</td>\\n</tr>',\n",
       " '<tr>\\n<td class=\"first left bold noWrap\" data-real-value=\"1646611200\">Mar 07, 2022</td>\\n<td class=\"greenFont\" data-real-value=\"33.000\">33.000</td>\\n<td data-real-value=\"32.690\">32.690</td>\\n<td data-real-value=\"33.080\">33.080</td>\\n<td data-real-value=\"32.660\">32.660</td>\\n<td class=\"bold greenFont\">0.95%</td>\\n</tr>',\n",
       " '<tr>\\n<td class=\"first left bold noWrap\" data-real-value=\"1646352000\">Mar 04, 2022</td>\\n<td class=\"greenFont\" data-real-value=\"32.690\">32.690</td>\\n<td data-real-value=\"32.590\">32.590</td>\\n<td data-real-value=\"32.750\">32.750</td>\\n<td data-real-value=\"32.550\">32.550</td>\\n<td class=\"bold greenFont\">0.34%</td>\\n</tr>',\n",
       " '<tr>\\n<td class=\"first left bold noWrap\" data-real-value=\"1646265600\">Mar 03, 2022</td>\\n<td class=\"greenFont\" data-real-value=\"32.580\">32.580</td>\\n<td data-real-value=\"32.530\">32.530</td>\\n<td data-real-value=\"32.650\">32.650</td>\\n<td data-real-value=\"32.400\">32.400</td>\\n<td class=\"bold greenFont\">0.22%</td>\\n</tr>',\n",
       " '<tr>\\n<td class=\"first left bold noWrap\" data-real-value=\"1646179200\">Mar 02, 2022</td>\\n<td class=\"redFont\" data-real-value=\"32.510\">32.510</td>\\n<td data-real-value=\"32.710\">32.710</td>\\n<td data-real-value=\"32.765\">32.765</td>\\n<td data-real-value=\"32.420\">32.420</td>\\n<td class=\"bold redFont\">-0.55%</td>\\n</tr>',\n",
       " '<tr>\\n<td class=\"first left bold noWrap\" data-real-value=\"1646092800\">Mar 01, 2022</td>\\n<td class=\"greenFont\" data-real-value=\"32.690\">32.690</td>\\n<td data-real-value=\"32.665\">32.665</td>\\n<td data-real-value=\"32.760\">32.760</td>\\n<td data-real-value=\"32.510\">32.510</td>\\n<td class=\"bold greenFont\">0.06%</td>\\n</tr>',\n",
       " '<tr>\\n<td class=\"first left bold noWrap\" data-real-value=\"1646006400\">Feb 28, 2022</td>\\n<td class=\"greenFont\" data-real-value=\"32.670\">32.670</td>\\n<td data-real-value=\"32.710\">32.710</td>\\n<td data-real-value=\"32.780\">32.780</td>\\n<td data-real-value=\"32.590\">32.590</td>\\n<td class=\"bold greenFont\">0.68%</td>\\n</tr>']"
      ]
     },
     "execution_count": 25,
     "metadata": {},
     "output_type": "execute_result"
    }
   ],
   "source": [
    "data"
   ]
  },
  {
   "cell_type": "markdown",
   "metadata": {},
   "source": [
    "#pack data to csv file"
   ]
  },
  {
   "cell_type": "code",
   "execution_count": 26,
   "metadata": {},
   "outputs": [],
   "source": [
    "col = ['Date', 'Price', 'Open','High','Low','Change(%)']\n",
    "df = pd.DataFrame()\n",
    "df = df.reindex(columns = col)"
   ]
  },
  {
   "cell_type": "code",
   "execution_count": 27,
   "metadata": {},
   "outputs": [],
   "source": [
    "for i,d in enumerate(data):\n",
    "    dd = remove_tag(str(d))\n",
    "    df.loc[len(df)] = dd"
   ]
  },
  {
   "cell_type": "code",
   "execution_count": 28,
   "metadata": {},
   "outputs": [
    {
     "data": {
      "text/html": [
       "<div>\n",
       "<style scoped>\n",
       "    .dataframe tbody tr th:only-of-type {\n",
       "        vertical-align: middle;\n",
       "    }\n",
       "\n",
       "    .dataframe tbody tr th {\n",
       "        vertical-align: top;\n",
       "    }\n",
       "\n",
       "    .dataframe thead th {\n",
       "        text-align: right;\n",
       "    }\n",
       "</style>\n",
       "<table border=\"1\" class=\"dataframe\">\n",
       "  <thead>\n",
       "    <tr style=\"text-align: right;\">\n",
       "      <th></th>\n",
       "      <th>Date</th>\n",
       "      <th>Price</th>\n",
       "      <th>Open</th>\n",
       "      <th>High</th>\n",
       "      <th>Low</th>\n",
       "      <th>Change(%)</th>\n",
       "    </tr>\n",
       "  </thead>\n",
       "  <tbody>\n",
       "    <tr>\n",
       "      <th>0</th>\n",
       "      <td>Mar 25, 2022</td>\n",
       "      <td>33.600</td>\n",
       "      <td>33.530</td>\n",
       "      <td>33.610</td>\n",
       "      <td>33.420</td>\n",
       "      <td>0.27%</td>\n",
       "    </tr>\n",
       "    <tr>\n",
       "      <th>1</th>\n",
       "      <td>Mar 24, 2022</td>\n",
       "      <td>33.510</td>\n",
       "      <td>33.610</td>\n",
       "      <td>33.720</td>\n",
       "      <td>33.505</td>\n",
       "      <td>-0.30%</td>\n",
       "    </tr>\n",
       "    <tr>\n",
       "      <th>2</th>\n",
       "      <td>Mar 23, 2022</td>\n",
       "      <td>33.610</td>\n",
       "      <td>33.510</td>\n",
       "      <td>33.700</td>\n",
       "      <td>33.445</td>\n",
       "      <td>0.39%</td>\n",
       "    </tr>\n",
       "    <tr>\n",
       "      <th>3</th>\n",
       "      <td>Mar 22, 2022</td>\n",
       "      <td>33.480</td>\n",
       "      <td>33.540</td>\n",
       "      <td>33.710</td>\n",
       "      <td>33.450</td>\n",
       "      <td>-0.18%</td>\n",
       "    </tr>\n",
       "    <tr>\n",
       "      <th>4</th>\n",
       "      <td>Mar 21, 2022</td>\n",
       "      <td>33.540</td>\n",
       "      <td>33.280</td>\n",
       "      <td>33.570</td>\n",
       "      <td>33.270</td>\n",
       "      <td>0.75%</td>\n",
       "    </tr>\n",
       "    <tr>\n",
       "      <th>5</th>\n",
       "      <td>Mar 18, 2022</td>\n",
       "      <td>33.290</td>\n",
       "      <td>33.210</td>\n",
       "      <td>33.400</td>\n",
       "      <td>33.195</td>\n",
       "      <td>0.27%</td>\n",
       "    </tr>\n",
       "    <tr>\n",
       "      <th>6</th>\n",
       "      <td>Mar 17, 2022</td>\n",
       "      <td>33.200</td>\n",
       "      <td>33.400</td>\n",
       "      <td>33.400</td>\n",
       "      <td>33.180</td>\n",
       "      <td>-0.42%</td>\n",
       "    </tr>\n",
       "    <tr>\n",
       "      <th>7</th>\n",
       "      <td>Mar 16, 2022</td>\n",
       "      <td>33.340</td>\n",
       "      <td>33.540</td>\n",
       "      <td>33.560</td>\n",
       "      <td>33.250</td>\n",
       "      <td>-0.51%</td>\n",
       "    </tr>\n",
       "    <tr>\n",
       "      <th>8</th>\n",
       "      <td>Mar 15, 2022</td>\n",
       "      <td>33.510</td>\n",
       "      <td>33.450</td>\n",
       "      <td>33.570</td>\n",
       "      <td>33.420</td>\n",
       "      <td>0.18%</td>\n",
       "    </tr>\n",
       "    <tr>\n",
       "      <th>9</th>\n",
       "      <td>Mar 14, 2022</td>\n",
       "      <td>33.450</td>\n",
       "      <td>33.300</td>\n",
       "      <td>33.470</td>\n",
       "      <td>33.270</td>\n",
       "      <td>0.45%</td>\n",
       "    </tr>\n",
       "    <tr>\n",
       "      <th>10</th>\n",
       "      <td>Mar 11, 2022</td>\n",
       "      <td>33.300</td>\n",
       "      <td>33.140</td>\n",
       "      <td>33.360</td>\n",
       "      <td>33.115</td>\n",
       "      <td>0.54%</td>\n",
       "    </tr>\n",
       "    <tr>\n",
       "      <th>11</th>\n",
       "      <td>Mar 10, 2022</td>\n",
       "      <td>33.120</td>\n",
       "      <td>33.040</td>\n",
       "      <td>33.170</td>\n",
       "      <td>32.970</td>\n",
       "      <td>0.30%</td>\n",
       "    </tr>\n",
       "    <tr>\n",
       "      <th>12</th>\n",
       "      <td>Mar 09, 2022</td>\n",
       "      <td>33.020</td>\n",
       "      <td>33.220</td>\n",
       "      <td>33.235</td>\n",
       "      <td>32.975</td>\n",
       "      <td>-0.48%</td>\n",
       "    </tr>\n",
       "    <tr>\n",
       "      <th>13</th>\n",
       "      <td>Mar 08, 2022</td>\n",
       "      <td>33.180</td>\n",
       "      <td>33.000</td>\n",
       "      <td>33.230</td>\n",
       "      <td>32.990</td>\n",
       "      <td>0.55%</td>\n",
       "    </tr>\n",
       "    <tr>\n",
       "      <th>14</th>\n",
       "      <td>Mar 07, 2022</td>\n",
       "      <td>33.000</td>\n",
       "      <td>32.690</td>\n",
       "      <td>33.080</td>\n",
       "      <td>32.660</td>\n",
       "      <td>0.95%</td>\n",
       "    </tr>\n",
       "    <tr>\n",
       "      <th>15</th>\n",
       "      <td>Mar 04, 2022</td>\n",
       "      <td>32.690</td>\n",
       "      <td>32.590</td>\n",
       "      <td>32.750</td>\n",
       "      <td>32.550</td>\n",
       "      <td>0.34%</td>\n",
       "    </tr>\n",
       "    <tr>\n",
       "      <th>16</th>\n",
       "      <td>Mar 03, 2022</td>\n",
       "      <td>32.580</td>\n",
       "      <td>32.530</td>\n",
       "      <td>32.650</td>\n",
       "      <td>32.400</td>\n",
       "      <td>0.22%</td>\n",
       "    </tr>\n",
       "    <tr>\n",
       "      <th>17</th>\n",
       "      <td>Mar 02, 2022</td>\n",
       "      <td>32.510</td>\n",
       "      <td>32.710</td>\n",
       "      <td>32.765</td>\n",
       "      <td>32.420</td>\n",
       "      <td>-0.55%</td>\n",
       "    </tr>\n",
       "    <tr>\n",
       "      <th>18</th>\n",
       "      <td>Mar 01, 2022</td>\n",
       "      <td>32.690</td>\n",
       "      <td>32.665</td>\n",
       "      <td>32.760</td>\n",
       "      <td>32.510</td>\n",
       "      <td>0.06%</td>\n",
       "    </tr>\n",
       "    <tr>\n",
       "      <th>19</th>\n",
       "      <td>Feb 28, 2022</td>\n",
       "      <td>32.670</td>\n",
       "      <td>32.710</td>\n",
       "      <td>32.780</td>\n",
       "      <td>32.590</td>\n",
       "      <td>0.68%</td>\n",
       "    </tr>\n",
       "  </tbody>\n",
       "</table>\n",
       "</div>"
      ],
      "text/plain": [
       "            Date   Price    Open    High     Low Change(%)\n",
       "0   Mar 25, 2022  33.600  33.530  33.610  33.420     0.27%\n",
       "1   Mar 24, 2022  33.510  33.610  33.720  33.505    -0.30%\n",
       "2   Mar 23, 2022  33.610  33.510  33.700  33.445     0.39%\n",
       "3   Mar 22, 2022  33.480  33.540  33.710  33.450    -0.18%\n",
       "4   Mar 21, 2022  33.540  33.280  33.570  33.270     0.75%\n",
       "5   Mar 18, 2022  33.290  33.210  33.400  33.195     0.27%\n",
       "6   Mar 17, 2022  33.200  33.400  33.400  33.180    -0.42%\n",
       "7   Mar 16, 2022  33.340  33.540  33.560  33.250    -0.51%\n",
       "8   Mar 15, 2022  33.510  33.450  33.570  33.420     0.18%\n",
       "9   Mar 14, 2022  33.450  33.300  33.470  33.270     0.45%\n",
       "10  Mar 11, 2022  33.300  33.140  33.360  33.115     0.54%\n",
       "11  Mar 10, 2022  33.120  33.040  33.170  32.970     0.30%\n",
       "12  Mar 09, 2022  33.020  33.220  33.235  32.975    -0.48%\n",
       "13  Mar 08, 2022  33.180  33.000  33.230  32.990     0.55%\n",
       "14  Mar 07, 2022  33.000  32.690  33.080  32.660     0.95%\n",
       "15  Mar 04, 2022  32.690  32.590  32.750  32.550     0.34%\n",
       "16  Mar 03, 2022  32.580  32.530  32.650  32.400     0.22%\n",
       "17  Mar 02, 2022  32.510  32.710  32.765  32.420    -0.55%\n",
       "18  Mar 01, 2022  32.690  32.665  32.760  32.510     0.06%\n",
       "19  Feb 28, 2022  32.670  32.710  32.780  32.590     0.68%"
      ]
     },
     "execution_count": 28,
     "metadata": {},
     "output_type": "execute_result"
    }
   ],
   "source": [
    "df"
   ]
  },
  {
   "cell_type": "code",
   "execution_count": 37,
   "metadata": {},
   "outputs": [],
   "source": [
    "df.to_csv('thb-usd.csv',index=False)"
   ]
  },
  {
   "cell_type": "markdown",
   "metadata": {},
   "source": [
    "#close browser"
   ]
  },
  {
   "cell_type": "code",
   "execution_count": 38,
   "metadata": {},
   "outputs": [],
   "source": [
    "browser.quit()"
   ]
  },
  {
   "cell_type": "code",
   "execution_count": null,
   "metadata": {},
   "outputs": [],
   "source": []
  },
  {
   "cell_type": "code",
   "execution_count": 13,
   "metadata": {},
   "outputs": [],
   "source": [
    "f = open('text2.txt', 'w')\n",
    "with open('text2.txt', 'w',encoding='utf-8') as f:\n",
    "    f.write(str(soup))"
   ]
  },
  {
   "cell_type": "code",
   "execution_count": 113,
   "metadata": {},
   "outputs": [],
   "source": [
    "#soup"
   ]
  }
 ],
 "metadata": {
  "interpreter": {
   "hash": "69eb92836b941e979072a76c7fcfffe5419cca933cedd02cfafbdfca1a93358c"
  },
  "kernelspec": {
   "display_name": "Python 3.9.10 64-bit",
   "language": "python",
   "name": "python3"
  },
  "language_info": {
   "codemirror_mode": {
    "name": "ipython",
    "version": 3
   },
   "file_extension": ".py",
   "mimetype": "text/x-python",
   "name": "python",
   "nbconvert_exporter": "python",
   "pygments_lexer": "ipython3",
   "version": "3.9.12"
  },
  "orig_nbformat": 4
 },
 "nbformat": 4,
 "nbformat_minor": 2
}
