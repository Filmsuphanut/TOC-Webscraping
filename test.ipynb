{
 "cells": [
  {
   "cell_type": "code",
   "execution_count": 25,
   "metadata": {},
   "outputs": [],
   "source": [
    "from bs4 import BeautifulSoup, Comment\n",
    "import requests\n",
    "import regex as re\n",
    "import xml\n",
    "from selenium import webdriver    "
   ]
  },
  {
   "cell_type": "code",
   "execution_count": 26,
   "metadata": {},
   "outputs": [],
   "source": [
    "website = [\"8a91ea9d777aa3387c2e162f08d3f256\",\n",
    "\"9e7e578038b49a6deed81ef26c9bb6d7\",\n",
    "\"7b6d09dd43fab1e99e714659b7d1af87\",\n",
    "]\n"
   ]
  },
  {
   "cell_type": "code",
   "execution_count": 27,
   "metadata": {},
   "outputs": [
    {
     "name": "stderr",
     "output_type": "stream",
     "text": [
      "C:\\Users\\Administrator\\AppData\\Local\\Temp\\ipykernel_13836\\1262611227.py:13: DeprecationWarning: executable_path has been deprecated, please pass in a Service object\n",
      "  browser = webdriver.Chrome(options=options, executable_path='D://TOC/Web_scraping/99.0.4844.51/chromedriver_win32/chromedriver.exe')\n"
     ]
    }
   ],
   "source": [
    "\n",
    "# headers = {'User-Agent': 'Mozilla/5.0 (Windows NT 10.0; Win64; x64) AppleWebKit/537.36 (KHTML, like Gecko) Chrome/99.0.4844.51 Safari/537.36',\n",
    "# 'Origin': 'https://www.bangkokbank.com',\n",
    "# 'Content-Type': 'text/html; charset=utf-8',\n",
    "# 'Referer': 'https://www.bangkokbank.com/th-TH/Personal/Other-Services/View-Rates/Foreign-Exchange-Rates'}\n",
    "# #url = requests.get(website, headers=headers)\n",
    "# #url.encoding = \"utf-8\"\n",
    "# soup = BeautifulSoup(url.text, \"html.parser\")\n",
    "\n",
    "options = webdriver.ChromeOptions()\n",
    "options.add_argument('--headless')\n",
    "# executable_path param is not needed if you updated PATH\n",
    "\n",
    "browser = webdriver.Chrome(options=options, executable_path='D://TOC/Web_scraping/99.0.4844.51/chromedriver_win32/chromedriver.exe')\n",
    "browser.get(website[0])\n",
    "html = browser.page_source\n",
    "soup = BeautifulSoup(html, features=\"html.parser\")\n",
    "browser.quit()"
   ]
  },
  {
   "cell_type": "code",
   "execution_count": 28,
   "metadata": {},
   "outputs": [],
   "source": [
    "f = open('text.txt', 'w')\n",
    "with open('text.txt', 'w',encoding='utf-8') as f:\n",
    "    f.write(str(soup))"
   ]
  },
  {
   "cell_type": "code",
   "execution_count": 29,
   "metadata": {},
   "outputs": [],
   "source": [
    "#soup"
   ]
  },
  {
   "cell_type": "code",
   "execution_count": 30,
   "metadata": {},
   "outputs": [],
   "source": [
    "# r_obj = requests.Session()\n",
    "# url = website # i.e. http://bisegrw.edu.pk/\n",
    "# r_soup = r_obj.get(url)\n",
    "# soup = BeautifulSoup(r_soup.content , \"lxml\")\n",
    "\n",
    "# hidden_inputs = soup.find_all(\"input\",type=\"hidden\")"
   ]
  }
 ],
 "metadata": {
  "interpreter": {
   "hash": "69eb92836b941e979072a76c7fcfffe5419cca933cedd02cfafbdfca1a93358c"
  },
  "kernelspec": {
   "display_name": "Python 3.9.10 64-bit",
   "language": "python",
   "name": "python3"
  },
  "language_info": {
   "codemirror_mode": {
    "name": "ipython",
    "version": 3
   },
   "file_extension": ".py",
   "mimetype": "text/x-python",
   "name": "python",
   "nbconvert_exporter": "python",
   "pygments_lexer": "ipython3",
   "version": "3.9.10"
  },
  "orig_nbformat": 4
 },
 "nbformat": 4,
 "nbformat_minor": 2
}
