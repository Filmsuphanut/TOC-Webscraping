{
 "cells": [
  {
   "cell_type": "code",
   "execution_count": 102,
   "metadata": {},
   "outputs": [],
   "source": [
    "from bs4 import BeautifulSoup, Comment\n",
    "import requests\n",
    "import regex as re\n",
    "import xml\n",
    "from selenium import webdriver\n",
    "import pandas as pd"
   ]
  },
  {
   "cell_type": "code",
   "execution_count": 103,
   "metadata": {},
   "outputs": [],
   "source": [
    "#USD\n",
    "\n",
    "website = [\"https://th.investing.com/currencies/usd-thb-historical-data\",\n",
    "\"https://th.investing.com/currencies/jpy-thb-historical-data\",\n",
    "\"https://th.investing.com/currencies/cny-thb-historical-data\",\n",
    "\"https://www.kasikornbank.com/th/rate/pages/foreign-exchange.aspx\",\n",
    "\"https://www.scb.co.th/th/personal-banking/foreign-exchange-rates.html\",\n",
    "]\n"
   ]
  },
  {
   "cell_type": "markdown",
   "metadata": {},
   "source": [
    "#start browser"
   ]
  },
  {
   "cell_type": "code",
   "execution_count": 104,
   "metadata": {},
   "outputs": [
    {
     "name": "stderr",
     "output_type": "stream",
     "text": [
      "C:\\Users\\Administrator\\AppData\\Local\\Temp\\ipykernel_13632\\924491811.py:5: DeprecationWarning: executable_path has been deprecated, please pass in a Service object\n",
      "  browser = webdriver.Chrome(options=options, executable_path='99.0.4844.51/chromedriver_win32/chromedriver.exe')\n"
     ]
    }
   ],
   "source": [
    "options = webdriver.ChromeOptions()\n",
    "options.add_argument('--headless')\n",
    "# executable_path param is not needed if you updated PATH\n",
    "\n",
    "browser = webdriver.Chrome(options=options, executable_path='99.0.4844.51/chromedriver_win32/chromedriver.exe')"
   ]
  },
  {
   "cell_type": "code",
   "execution_count": 105,
   "metadata": {},
   "outputs": [],
   "source": [
    "browser.get(website[0])\n",
    "html = browser.page_source\n",
    "soup = BeautifulSoup(html, features=\"html.parser\")"
   ]
  },
  {
   "cell_type": "code",
   "execution_count": 106,
   "metadata": {},
   "outputs": [],
   "source": [
    "data = soup.find('div',{\"id\" : \"results_box\"}).find('table',{'class':'genTbl closedTbl historicalTbl'}).find('tbody').find_all('tr')\n"
   ]
  },
  {
   "cell_type": "markdown",
   "metadata": {},
   "source": [
    "#pack data to csv file"
   ]
  },
  {
   "cell_type": "code",
   "execution_count": 107,
   "metadata": {},
   "outputs": [],
   "source": [
    "col = ['Date', 'Price', 'Open','High','Low','Change(%)']\n",
    "df = pd.DataFrame()\n",
    "df = df.reindex(columns = col)"
   ]
  },
  {
   "cell_type": "code",
   "execution_count": 108,
   "metadata": {},
   "outputs": [],
   "source": [
    "for i,d in enumerate(data):\n",
    "    dd = d.get_text().split('\\n')[1:-1]\n",
    "    df.loc[len(df)] = dd"
   ]
  },
  {
   "cell_type": "code",
   "execution_count": 109,
   "metadata": {},
   "outputs": [
    {
     "data": {
      "text/html": [
       "<div>\n",
       "<style scoped>\n",
       "    .dataframe tbody tr th:only-of-type {\n",
       "        vertical-align: middle;\n",
       "    }\n",
       "\n",
       "    .dataframe tbody tr th {\n",
       "        vertical-align: top;\n",
       "    }\n",
       "\n",
       "    .dataframe thead th {\n",
       "        text-align: right;\n",
       "    }\n",
       "</style>\n",
       "<table border=\"1\" class=\"dataframe\">\n",
       "  <thead>\n",
       "    <tr style=\"text-align: right;\">\n",
       "      <th></th>\n",
       "      <th>Date</th>\n",
       "      <th>Price</th>\n",
       "      <th>Open</th>\n",
       "      <th>High</th>\n",
       "      <th>Low</th>\n",
       "      <th>Change(%)</th>\n",
       "    </tr>\n",
       "  </thead>\n",
       "  <tbody>\n",
       "    <tr>\n",
       "      <th>0</th>\n",
       "      <td>Mar 18, 2022</td>\n",
       "      <td>33.290</td>\n",
       "      <td>33.210</td>\n",
       "      <td>33.400</td>\n",
       "      <td>33.195</td>\n",
       "      <td>0.27%</td>\n",
       "    </tr>\n",
       "    <tr>\n",
       "      <th>1</th>\n",
       "      <td>Mar 17, 2022</td>\n",
       "      <td>33.200</td>\n",
       "      <td>33.400</td>\n",
       "      <td>33.400</td>\n",
       "      <td>33.180</td>\n",
       "      <td>-0.42%</td>\n",
       "    </tr>\n",
       "    <tr>\n",
       "      <th>2</th>\n",
       "      <td>Mar 16, 2022</td>\n",
       "      <td>33.340</td>\n",
       "      <td>33.540</td>\n",
       "      <td>33.560</td>\n",
       "      <td>33.250</td>\n",
       "      <td>-0.51%</td>\n",
       "    </tr>\n",
       "    <tr>\n",
       "      <th>3</th>\n",
       "      <td>Mar 15, 2022</td>\n",
       "      <td>33.510</td>\n",
       "      <td>33.450</td>\n",
       "      <td>33.570</td>\n",
       "      <td>33.420</td>\n",
       "      <td>0.18%</td>\n",
       "    </tr>\n",
       "    <tr>\n",
       "      <th>4</th>\n",
       "      <td>Mar 14, 2022</td>\n",
       "      <td>33.450</td>\n",
       "      <td>33.300</td>\n",
       "      <td>33.470</td>\n",
       "      <td>33.270</td>\n",
       "      <td>0.45%</td>\n",
       "    </tr>\n",
       "    <tr>\n",
       "      <th>5</th>\n",
       "      <td>Mar 11, 2022</td>\n",
       "      <td>33.300</td>\n",
       "      <td>33.140</td>\n",
       "      <td>33.360</td>\n",
       "      <td>33.115</td>\n",
       "      <td>0.54%</td>\n",
       "    </tr>\n",
       "    <tr>\n",
       "      <th>6</th>\n",
       "      <td>Mar 10, 2022</td>\n",
       "      <td>33.120</td>\n",
       "      <td>33.040</td>\n",
       "      <td>33.170</td>\n",
       "      <td>32.970</td>\n",
       "      <td>0.30%</td>\n",
       "    </tr>\n",
       "    <tr>\n",
       "      <th>7</th>\n",
       "      <td>Mar 09, 2022</td>\n",
       "      <td>33.020</td>\n",
       "      <td>33.220</td>\n",
       "      <td>33.235</td>\n",
       "      <td>32.975</td>\n",
       "      <td>-0.48%</td>\n",
       "    </tr>\n",
       "    <tr>\n",
       "      <th>8</th>\n",
       "      <td>Mar 08, 2022</td>\n",
       "      <td>33.180</td>\n",
       "      <td>33.000</td>\n",
       "      <td>33.230</td>\n",
       "      <td>32.990</td>\n",
       "      <td>0.55%</td>\n",
       "    </tr>\n",
       "    <tr>\n",
       "      <th>9</th>\n",
       "      <td>Mar 07, 2022</td>\n",
       "      <td>33.000</td>\n",
       "      <td>32.690</td>\n",
       "      <td>33.080</td>\n",
       "      <td>32.660</td>\n",
       "      <td>0.95%</td>\n",
       "    </tr>\n",
       "    <tr>\n",
       "      <th>10</th>\n",
       "      <td>Mar 04, 2022</td>\n",
       "      <td>32.690</td>\n",
       "      <td>32.590</td>\n",
       "      <td>32.750</td>\n",
       "      <td>32.550</td>\n",
       "      <td>0.34%</td>\n",
       "    </tr>\n",
       "    <tr>\n",
       "      <th>11</th>\n",
       "      <td>Mar 03, 2022</td>\n",
       "      <td>32.580</td>\n",
       "      <td>32.530</td>\n",
       "      <td>32.650</td>\n",
       "      <td>32.400</td>\n",
       "      <td>0.22%</td>\n",
       "    </tr>\n",
       "    <tr>\n",
       "      <th>12</th>\n",
       "      <td>Mar 02, 2022</td>\n",
       "      <td>32.510</td>\n",
       "      <td>32.710</td>\n",
       "      <td>32.765</td>\n",
       "      <td>32.420</td>\n",
       "      <td>-0.55%</td>\n",
       "    </tr>\n",
       "    <tr>\n",
       "      <th>13</th>\n",
       "      <td>Mar 01, 2022</td>\n",
       "      <td>32.690</td>\n",
       "      <td>32.665</td>\n",
       "      <td>32.760</td>\n",
       "      <td>32.510</td>\n",
       "      <td>0.06%</td>\n",
       "    </tr>\n",
       "    <tr>\n",
       "      <th>14</th>\n",
       "      <td>Feb 28, 2022</td>\n",
       "      <td>32.670</td>\n",
       "      <td>32.710</td>\n",
       "      <td>32.780</td>\n",
       "      <td>32.590</td>\n",
       "      <td>0.68%</td>\n",
       "    </tr>\n",
       "    <tr>\n",
       "      <th>15</th>\n",
       "      <td>Feb 25, 2022</td>\n",
       "      <td>32.450</td>\n",
       "      <td>32.625</td>\n",
       "      <td>32.660</td>\n",
       "      <td>32.415</td>\n",
       "      <td>-0.55%</td>\n",
       "    </tr>\n",
       "    <tr>\n",
       "      <th>16</th>\n",
       "      <td>Feb 24, 2022</td>\n",
       "      <td>32.630</td>\n",
       "      <td>32.270</td>\n",
       "      <td>32.890</td>\n",
       "      <td>32.240</td>\n",
       "      <td>1.15%</td>\n",
       "    </tr>\n",
       "    <tr>\n",
       "      <th>17</th>\n",
       "      <td>Feb 23, 2022</td>\n",
       "      <td>32.260</td>\n",
       "      <td>32.420</td>\n",
       "      <td>32.480</td>\n",
       "      <td>32.185</td>\n",
       "      <td>-0.49%</td>\n",
       "    </tr>\n",
       "    <tr>\n",
       "      <th>18</th>\n",
       "      <td>Feb 22, 2022</td>\n",
       "      <td>32.420</td>\n",
       "      <td>32.270</td>\n",
       "      <td>32.480</td>\n",
       "      <td>32.250</td>\n",
       "      <td>0.43%</td>\n",
       "    </tr>\n",
       "    <tr>\n",
       "      <th>19</th>\n",
       "      <td>Feb 21, 2022</td>\n",
       "      <td>32.280</td>\n",
       "      <td>32.140</td>\n",
       "      <td>32.290</td>\n",
       "      <td>32.090</td>\n",
       "      <td>0.37%</td>\n",
       "    </tr>\n",
       "  </tbody>\n",
       "</table>\n",
       "</div>"
      ],
      "text/plain": [
       "            Date   Price    Open    High     Low Change(%)\n",
       "0   Mar 18, 2022  33.290  33.210  33.400  33.195     0.27%\n",
       "1   Mar 17, 2022  33.200  33.400  33.400  33.180    -0.42%\n",
       "2   Mar 16, 2022  33.340  33.540  33.560  33.250    -0.51%\n",
       "3   Mar 15, 2022  33.510  33.450  33.570  33.420     0.18%\n",
       "4   Mar 14, 2022  33.450  33.300  33.470  33.270     0.45%\n",
       "5   Mar 11, 2022  33.300  33.140  33.360  33.115     0.54%\n",
       "6   Mar 10, 2022  33.120  33.040  33.170  32.970     0.30%\n",
       "7   Mar 09, 2022  33.020  33.220  33.235  32.975    -0.48%\n",
       "8   Mar 08, 2022  33.180  33.000  33.230  32.990     0.55%\n",
       "9   Mar 07, 2022  33.000  32.690  33.080  32.660     0.95%\n",
       "10  Mar 04, 2022  32.690  32.590  32.750  32.550     0.34%\n",
       "11  Mar 03, 2022  32.580  32.530  32.650  32.400     0.22%\n",
       "12  Mar 02, 2022  32.510  32.710  32.765  32.420    -0.55%\n",
       "13  Mar 01, 2022  32.690  32.665  32.760  32.510     0.06%\n",
       "14  Feb 28, 2022  32.670  32.710  32.780  32.590     0.68%\n",
       "15  Feb 25, 2022  32.450  32.625  32.660  32.415    -0.55%\n",
       "16  Feb 24, 2022  32.630  32.270  32.890  32.240     1.15%\n",
       "17  Feb 23, 2022  32.260  32.420  32.480  32.185    -0.49%\n",
       "18  Feb 22, 2022  32.420  32.270  32.480  32.250     0.43%\n",
       "19  Feb 21, 2022  32.280  32.140  32.290  32.090     0.37%"
      ]
     },
     "execution_count": 109,
     "metadata": {},
     "output_type": "execute_result"
    }
   ],
   "source": [
    "df"
   ]
  },
  {
   "cell_type": "code",
   "execution_count": 110,
   "metadata": {},
   "outputs": [],
   "source": [
    "df.to_csv('thb-usd.csv',index=False)"
   ]
  },
  {
   "cell_type": "markdown",
   "metadata": {},
   "source": [
    "#close browser"
   ]
  },
  {
   "cell_type": "code",
   "execution_count": 111,
   "metadata": {},
   "outputs": [],
   "source": [
    "browser.quit()"
   ]
  },
  {
   "cell_type": "code",
   "execution_count": null,
   "metadata": {},
   "outputs": [],
   "source": []
  },
  {
   "cell_type": "code",
   "execution_count": 112,
   "metadata": {},
   "outputs": [],
   "source": [
    "# f = open('text.txt', 'w')\n",
    "# with open('text.txt', 'w',encoding='utf-8') as f:\n",
    "#     f.write(str(soup))"
   ]
  },
  {
   "cell_type": "code",
   "execution_count": 113,
   "metadata": {},
   "outputs": [],
   "source": [
    "#soup"
   ]
  }
 ],
 "metadata": {
  "interpreter": {
   "hash": "69eb92836b941e979072a76c7fcfffe5419cca933cedd02cfafbdfca1a93358c"
  },
  "kernelspec": {
   "display_name": "Python 3.9.10 64-bit",
   "language": "python",
   "name": "python3"
  },
  "language_info": {
   "codemirror_mode": {
    "name": "ipython",
    "version": 3
   },
   "file_extension": ".py",
   "mimetype": "text/x-python",
   "name": "python",
   "nbconvert_exporter": "python",
   "pygments_lexer": "ipython3",
   "version": "3.9.11"
  },
  "orig_nbformat": 4
 },
 "nbformat": 4,
 "nbformat_minor": 2
}
